{
 "cells": [
  {
   "cell_type": "code",
   "execution_count": null,
   "metadata": {},
   "outputs": [],
   "source": [
    "# for numerical work\n",
    "import pandas as pd\n",
    "import numpy as np\n",
    "\n",
    "import pymongo\n",
    "\n",
    "import datetime\n",
    "import json\n",
    "\n",
    "from pandas.io.json import json_normalize\n",
    "from pymongo import MongoClient\n",
    "\n",
    "import pickle\n",
    "\n",
    "# load the database credentials from file\n",
    "with open('../creds/creds.json') as json_data:\n",
    "    creds = json.load(json_data)\n",
    "    \n",
    "client = MongoClient(creds['connection_string'])"
   ]
  },
  {
   "cell_type": "code",
   "execution_count": null,
   "metadata": {},
   "outputs": [],
   "source": [
    "subset = pd.read_hdf('../lstm_data_prep_pipeline/results/all_request_events.hdf5', 'table')"
   ]
  },
  {
   "cell_type": "code",
   "execution_count": null,
   "metadata": {},
   "outputs": [],
   "source": [
    "subset.head()"
   ]
  },
  {
   "cell_type": "code",
   "execution_count": null,
   "metadata": {},
   "outputs": [],
   "source": [
    "ids = subset.request_id.unique()\n",
    "ints = np.arange(0, len(ids))\n",
    "\n",
    "request_id_mapper = dict(zip(ids, ints))\n",
    "\n",
    "# get the dimensions of the data\n",
    "n_examples = subset.request_id.unique().size\n",
    "n_timesteps = subset.timesteps.max()+1 # because the indexing starts at 0 so the event with index 10 is actually the 11th event\n",
    "n_features = subset.columns.drop(['request_id','index_int','timesteps']).size\n",
    "features = list(subset.columns.drop(['request_id','index_int','timesteps']))\n",
    "\n",
    "# create a boolean map to set the na_columns to 1\n",
    "na_col_map = np.array([i for i, col in enumerate(features) if '_NaN' in col])\n",
    "\n",
    "# set up the empty dataframe\n",
    "data = np.zeros((n_examples,n_timesteps,n_features))\n",
    "\n",
    "request_ids = subset.request_id.values\n",
    "timestep_ids = subset.timesteps.values\n",
    "\n",
    "# initialize all the na cols to 1                      \n",
    "# data[:,:,na_col_map] = 1.0\n",
    "\n",
    "# get only the features\n",
    "subset.drop(['request_id','index_int','timesteps'], axis=1, inplace=True)"
   ]
  },
  {
   "cell_type": "code",
   "execution_count": null,
   "metadata": {},
   "outputs": [],
   "source": [
    "import sys\n",
    "\n",
    "sys.getsizeof(subset)/1000/1000/1000"
   ]
  },
  {
   "cell_type": "code",
   "execution_count": null,
   "metadata": {},
   "outputs": [],
   "source": [
    "subset = subset.values"
   ]
  },
  {
   "cell_type": "code",
   "execution_count": null,
   "metadata": {},
   "outputs": [],
   "source": [
    "# for each row in the dataframe of request events\n",
    "for i in range(subset.shape[0]):\n",
    "    \n",
    "    # print out a status every 1000 records\n",
    "    if (i+1)%1000 == 0:\n",
    "        print(i, 'events processed out of', subset.shape[0])\n",
    "    # get the example index\n",
    "    example_id = int(request_id_mapper[request_ids[i]])\n",
    "    \n",
    "    # get the timestep index\n",
    "    timestep_id = int(timestep_ids[i])\n",
    "    \n",
    "    # get the values index\n",
    "    values = subset[i,:].values.astype('float64')\n",
    "    \n",
    "    # update the values of that example\n",
    "    data[example_id, timestep_id,:] = values\n",
    "\n",
    "print(\"Shape of dataset:\",data.shape)\n",
    "\n",
    "\n",
    "\n",
    "# set up data\n",
    "X = data\n",
    "y = fraud\n",
    "groups = np.array(user_emails)\n",
    "\n",
    "# create a dict with the results\n",
    "results_dict = {'X': X,\n",
    "                'y': y, \n",
    "                'groups': groups, \n",
    "                'feature_names': np.array(data_df.columns)}\n",
    "\n",
    "print(\"Saving results to a pickle file.\")\n",
    "\n",
    "# save results to a pickle file\n",
    "with open(\"../lstm_data_prep_pipeline/results/all_request_results.pickle\", 'wb') as outfile:\n",
    "    pickle.dump(results_dict, outfile, protocol=pickle.HIGHEST_PROTOCOL)"
   ]
  }
 ],
 "metadata": {
  "kernelspec": {
   "display_name": "Python 3",
   "language": "python",
   "name": "python3"
  },
  "language_info": {
   "codemirror_mode": {
    "name": "ipython",
    "version": 3
   },
   "file_extension": ".py",
   "mimetype": "text/x-python",
   "name": "python",
   "nbconvert_exporter": "python",
   "pygments_lexer": "ipython3",
   "version": "3.6.5"
  }
 },
 "nbformat": 4,
 "nbformat_minor": 2
}
