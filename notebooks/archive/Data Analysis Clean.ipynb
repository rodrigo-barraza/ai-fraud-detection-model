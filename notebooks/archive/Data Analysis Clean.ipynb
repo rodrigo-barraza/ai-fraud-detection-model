{
 "cells": [
  {
   "cell_type": "code",
   "execution_count": null,
   "metadata": {},
   "outputs": [],
   "source": [
    "%load_ext autoreload"
   ]
  },
  {
   "cell_type": "code",
   "execution_count": null,
   "metadata": {},
   "outputs": [],
   "source": [
    "%autoreload\n",
    "\n",
    "import junodb, junoutils, junoplots\n",
    "import time\n",
    "import pandas as pd\n",
    "import datetime\n",
    "\n",
    "from plotly.offline import download_plotlyjs, init_notebook_mode, plot, iplot\n",
    "import plotly.graph_objs as go\n",
    "import plotly.plotly as py\n",
    "from plotly.tools import FigureFactory as ff\n",
    "\n",
    "import numpy as np\n",
    "\n",
    "init_notebook_mode(connected=True)\n",
    "\n",
    "%matplotlib inline\n",
    "import networkx as nx  # For the magic\n",
    "import matplotlib.pyplot as plt\n",
    "import graphviz\n",
    "import pydot\n",
    "\n",
    "from IPython.display import Image, display\n",
    "\n",
    "def viewPydot(pdot):\n",
    "    plt = Image(pdot.create_png())\n",
    "    display(plt)"
   ]
  },
  {
   "cell_type": "code",
   "execution_count": null,
   "metadata": {},
   "outputs": [],
   "source": [
    "# read in the stored data\n",
    "edf = pd.read_csv('all_events.csv')"
   ]
  },
  {
   "cell_type": "code",
   "execution_count": null,
   "metadata": {},
   "outputs": [],
   "source": [
    "udf = pd.read_csv('all_users.csv')"
   ]
  },
  {
   "cell_type": "code",
   "execution_count": null,
   "metadata": {
    "scrolled": false
   },
   "outputs": [],
   "source": [
    "# get all the user events for the testing account in the last 10 days\n",
    "date = datetime.datetime.now() - datetime.timedelta(days=10)\n",
    "user_df = junoutils.processEvents(junodb.getUserEvents(email='testing@einstein.exchange', date=date))\n",
    "junoutils.summarizeUserEvents(user_df=user_df)"
   ]
  },
  {
   "cell_type": "code",
   "execution_count": null,
   "metadata": {},
   "outputs": [],
   "source": [
    "# clean up the events\n",
    "subsetdf = junoutils.cleanUpEvents(edf)"
   ]
  },
  {
   "cell_type": "code",
   "execution_count": null,
   "metadata": {},
   "outputs": [],
   "source": [
    "events_summary = junoutils.createUserEventSummaries(clean_df=subsetdf)"
   ]
  },
  {
   "cell_type": "code",
   "execution_count": null,
   "metadata": {},
   "outputs": [],
   "source": [
    "junoutils.savePickle(events_summary, 'events_data.pickle')"
   ]
  },
  {
   "cell_type": "code",
   "execution_count": null,
   "metadata": {},
   "outputs": [],
   "source": [
    "summary_df = events_summary['summary_df']"
   ]
  },
  {
   "cell_type": "code",
   "execution_count": null,
   "metadata": {},
   "outputs": [],
   "source": [
    "# simplify the aggregates to remove columns that don't contain valuable info\n",
    "simp = junoutils.simplifyAgg(df=summary_df)"
   ]
  },
  {
   "cell_type": "code",
   "execution_count": null,
   "metadata": {},
   "outputs": [],
   "source": [
    "simp_data = simp.drop(axis=1, labels=['email'])\n",
    "\n",
    "dropidx = list(simp_data.index[np.isinf(simp_data).any(1)])\n",
    "a = simp.drop(dropidx)\n",
    "b = simp_data.drop(dropidx)\n",
    "\n",
    "emb = junoutils.calculatetSNEEmbeddings(b)\n",
    "\n",
    "a['tSNE_x'] = emb[:,0]\n",
    "a['tSNE_y'] = emb[:,1]"
   ]
  },
  {
   "cell_type": "code",
   "execution_count": null,
   "metadata": {},
   "outputs": [],
   "source": [
    "kmeans_pca = junoutils.calculatetKMeans(df=b, pca=True)\n",
    "kmeans = junoutils.calculatetKMeans(df=b, pca=False)\n",
    "a['kmeans_pca_label'] = kmeans_pca\n",
    "a['kmeans_label'] = kmeans"
   ]
  },
  {
   "cell_type": "code",
   "execution_count": null,
   "metadata": {},
   "outputs": [],
   "source": [
    "pca2 = junoutils.decomposition.PCA(n_components=2).fit_transform(b.values)\n",
    "a['pca_1'] = pca2[:,0]\n",
    "a['pca_2'] = pca2[:,1]"
   ]
  },
  {
   "cell_type": "code",
   "execution_count": null,
   "metadata": {},
   "outputs": [],
   "source": [
    "kmeans_on_tSNE = junoutils.calculatetKMeans(df=a[['tSNE_x','tSNE_y']], pca=False)\n",
    "a['kmeans_tSNE_label'] = kmeans_on_tSNE"
   ]
  },
  {
   "cell_type": "code",
   "execution_count": null,
   "metadata": {},
   "outputs": [],
   "source": [
    "import pickle\n",
    "\n",
    "with open('cluster_summary.pickle', 'wb') as handle:\n",
    "        pickle.dump(a, handle, protocol=pickle.HIGHEST_PROTOCOL)"
   ]
  },
  {
   "cell_type": "code",
   "execution_count": null,
   "metadata": {},
   "outputs": [],
   "source": [
    "cluster_summary = junoutils.openPickle('cluster_summary.pickle')"
   ]
  },
  {
   "cell_type": "markdown",
   "metadata": {},
   "source": [
    "# Creating User Action Layouts/Diagrams"
   ]
  },
  {
   "cell_type": "code",
   "execution_count": null,
   "metadata": {
    "scrolled": true
   },
   "outputs": [],
   "source": [
    "actions = subsetdf[['created',\n",
    "                    'email',\n",
    "                    'category_label_action',\n",
    "                    'category_action']].sort_values(by=['email','created'])\n",
    "\n",
    "actions = actions[actions.email.isnull() == False]\n",
    "yah = actions[actions.email == 'put specific user email here']"
   ]
  },
  {
   "cell_type": "code",
   "execution_count": null,
   "metadata": {},
   "outputs": [],
   "source": [
    "yah['cla_lag1'] = yah.category_label_action.shift(1)\n",
    "yah['ca_lag1'] = yah.category_action.shift(1)"
   ]
  },
  {
   "cell_type": "code",
   "execution_count": null,
   "metadata": {},
   "outputs": [],
   "source": [
    "cla = yah[['category_action','ca_lag1']]\n",
    "cla['target'] = cla.category_action\n",
    "cla['source'] = cla.ca_lag1\n",
    "cla = cla[['source','target']]\n",
    "cla = cla[cla.source.isnull() == False]\n",
    "\n",
    "print(cla.head())\n",
    "\n",
    "cla['unordered_pair'] = cla.apply(lambda row: ' '.join(sorted([row['source'], row['target']])), axis=1)\n",
    "\n",
    "cla['ordered_pair'] = cla.source+\" \"+cla.target\n",
    "\n",
    "pairs = cla.drop_duplicates()\n",
    "pairs = pairs[pairs.source != pairs.target]\n",
    "pairs = pd.DataFrame({'pair': pairs['unordered_pair'].unique()})\n",
    "\n",
    "pairs['count'] = pairs.pair.apply(lambda x: np.sum(cla.unordered_pair == x))\n",
    "pairs['source'] = pairs.pair.apply(lambda x: x.split(' ')[0])\n",
    "pairs['target'] = pairs.pair.apply(lambda x: x.split(' ')[1])\n",
    "\n",
    "pairs['link_color'] = \"rgba(0,0,96,0.2)\"\n",
    "pairs['node_color'] = \"rgba(31, 119, 180, 0.8)\"\n",
    "\n",
    "pairs = pairs.sort_values(by='source').reset_index(drop=True)\n",
    "pairs\n",
    "\n",
    "mapper = {}\n",
    "idx = 0\n",
    "\n",
    "node_labels = sorted(set(list(pairs.source.unique()) + list(pairs.target.unique())))\n",
    "\n",
    "for s in node_labels:\n",
    "    mapper[s] = idx\n",
    "    idx += 1\n",
    "    \n",
    "pairs['src_idx'] = pairs.source.apply(lambda x:  mapper[x])\n",
    "pairs['target_idx'] = pairs.target.apply(lambda x:  mapper[x])\n",
    "pairs"
   ]
  },
  {
   "cell_type": "code",
   "execution_count": null,
   "metadata": {
    "scrolled": false
   },
   "outputs": [],
   "source": [
    "data_trace = go.Sankey(\n",
    "    domain = dict(\n",
    "        x =  [0,1],\n",
    "        y =  [0,1]\n",
    "    ),\n",
    "    orientation = \"h\",\n",
    "    valueformat = \".0f\",\n",
    "    valuesuffix = \"\",\n",
    "    node = dict(\n",
    "        pad = 15,\n",
    "        thickness = 15,\n",
    "        line = dict(\n",
    "            color = \"black\",\n",
    "            width = 0.5\n",
    "        ),\n",
    "        label = node_labels\n",
    "    ),\n",
    "    link = dict(\n",
    "        source = list(pairs['src_idx'].values),\n",
    "        target = list(pairs['target_idx'].values),\n",
    "        value =  list(pairs['count'].values),\n",
    "    )\n",
    ")\n",
    "\n",
    "layout =  go.Layout(\n",
    "    title = \"Consumer Events\",\n",
    "    font = dict(\n",
    "      size = 10\n",
    "    )\n",
    ")\n",
    "\n",
    "fig = go.Figure(data=[data_trace], layout=layout)\n",
    "iplot(fig, validate=False)"
   ]
  },
  {
   "cell_type": "code",
   "execution_count": null,
   "metadata": {},
   "outputs": [],
   "source": [
    "G = nx.MultiDiGraph()\n",
    "labels={}\n",
    "edge_labels={}\n",
    "states = list(sorted(set(list(cla.source.unique()) + list(cla.target.unique()))))\n",
    "\n",
    "for i, origin_state in enumerate(states):\n",
    "    for j, destination_state in enumerate(states):\n",
    "        source = cla[cla.source == origin_state]\n",
    "        rate = source[source.target == destination_state].shape[0]\n",
    "        if rate > 0:\n",
    "            G.add_edge(origin_state,\n",
    "                       destination_state,\n",
    "                       weight=rate,\n",
    "                       label=\"{:.02f}\".format(rate))\n",
    "            edge_labels[(origin_state, destination_state)] = label=\"{:.02f}\".format(rate)\n",
    "            \n",
    "dot = nx.nx_pydot.to_pydot(G)\n",
    "viewPydot(dot)"
   ]
  },
  {
   "cell_type": "code",
   "execution_count": null,
   "metadata": {},
   "outputs": [],
   "source": [
    "cla1 = yah[['category_label_action','cla_lag1']]\n",
    "cla1['target'] = cla1.category_label_action\n",
    "cla1['source'] = cla1.cla_lag1\n",
    "cla1 = cla1[['source','target']]\n",
    "cla1 = cla1[cla1.source.isnull() == False]\n",
    "\n",
    "\n",
    "G = nx.MultiDiGraph()\n",
    "labels={}\n",
    "edge_labels={}\n",
    "states = list(sorted(set(list(cla1.source.unique()) + list(cla1.target.unique()))))\n",
    "\n",
    "for i, origin_state in enumerate(states):\n",
    "    for j, destination_state in enumerate(states):\n",
    "        source = cla1[cla1.source == origin_state]\n",
    "        rate = source[source.target == destination_state].shape[0]\n",
    "        if rate > 0:\n",
    "            G.add_edge(origin_state,\n",
    "                       destination_state,\n",
    "                       weight=rate,\n",
    "                       label=\"{:.02f}\".format(rate))\n",
    "            edge_labels[(origin_state, destination_state)] = label=\"{:.02f}\".format(rate)\n",
    "            \n",
    "dot = nx.nx_pydot.to_pydot(G)\n",
    "viewPydot(dot)"
   ]
  },
  {
   "cell_type": "code",
   "execution_count": null,
   "metadata": {},
   "outputs": [],
   "source": [
    "subsetdf[subsetdf.email.isnull() == True].category_label_action.unique()"
   ]
  },
  {
   "cell_type": "code",
   "execution_count": null,
   "metadata": {},
   "outputs": [],
   "source": [
    "for col in subsetdf.columns:\n",
    "    if 'url' in col:\n",
    "        print(col)"
   ]
  },
  {
   "cell_type": "code",
   "execution_count": null,
   "metadata": {},
   "outputs": [],
   "source": [
    "summary = junoutils.openPickle('data/summary_data_20180221134012.pickle')"
   ]
  },
  {
   "cell_type": "code",
   "execution_count": null,
   "metadata": {},
   "outputs": [],
   "source": [
    "sdf = summary['summary_df']\n",
    "sdf = junoutils.simplifyAgg(sdf)"
   ]
  },
  {
   "cell_type": "code",
   "execution_count": null,
   "metadata": {},
   "outputs": [],
   "source": [
    "sdf_data = sdf.drop(labels=['email','value_std'], axis=1)\n",
    "dropidx = list(sdf_data.index[np.isinf(sdf_data).any(1)])\n",
    "sdf_clean = sdf.drop(dropidx)\n",
    "sdf_data_clean = sdf_data.drop(dropidx)"
   ]
  },
  {
   "cell_type": "code",
   "execution_count": null,
   "metadata": {},
   "outputs": [],
   "source": [
    "tSNE = junoutils.calculatetSNEEmbeddings(df=sdf_data, pca=False)\n",
    "sdf_clean['tSNE_x'] = tSNE[:,0]\n",
    "sdf_clean['tSNE_y'] = tSNE[:,1]"
   ]
  },
  {
   "cell_type": "code",
   "execution_count": null,
   "metadata": {},
   "outputs": [],
   "source": [
    "junoutils.savePickle(event_dict=sdf_clean, name='summary_withemb.pickle')"
   ]
  },
  {
   "cell_type": "code",
   "execution_count": null,
   "metadata": {},
   "outputs": [],
   "source": [
    "for email in user_emails:\n",
    "    \n",
    "    \n",
    "    n = np.sum(edf[edf.email == email]['metadata.fraudulent'] == True)\n",
    "    \n",
    "    if n > 0:\n",
    "        print(email, n)"
   ]
  },
  {
   "cell_type": "code",
   "execution_count": null,
   "metadata": {},
   "outputs": [],
   "source": [
    "fraudsters = pd.read_csv('data/suspected_fraudsters.csv', header=None)\n",
    "fraudsters['email'] = fraudsters[0]\n",
    "fraudsters = fraudsters[['email']]\n",
    "\n",
    "emails = []\n",
    "\n",
    "for l in fraudsters.email:\n",
    "    if ',' in l:\n",
    "        l = l.split(',')\n",
    "        for s in l:\n",
    "            s = s.replace('\\n','').replace(' ','')\n",
    "            emails.append(s)\n",
    "    else:\n",
    "        emails.append(l)\n",
    "        \n",
    "fraudsters = pd.DataFrame({'email': emails})\n",
    "\n",
    "emails = fraudsters.email.unique()\n",
    "\n",
    "\n",
    "\n",
    "sdf_clean['suspected_fraud'] = False\n",
    "sdf_clean['fraud_count'] = 0\n",
    "\n",
    "for email in emails:\n",
    "    \n",
    "    sdf_clean['suspected_fraud'][sdf_clean.email == email] = True\n",
    "    \n",
    "for f in fraud_counts:\n",
    "    sdf_clean['fraud_count'][sdf_clean.email == f[0]] = f[1]\n",
    "    \n",
    "sdf_clean['suspected_fraud'][sdf_clean['fraud_count'] > 0] = True\n",
    "\n",
    "sdf_clean[sdf_clean['suspected_fraud'] == True]"
   ]
  },
  {
   "cell_type": "code",
   "execution_count": null,
   "metadata": {},
   "outputs": [],
   "source": [
    "junoutils.savePickle(event_dict=sdf_clean, name='summary_withemb.pickle')"
   ]
  },
  {
   "cell_type": "code",
   "execution_count": null,
   "metadata": {},
   "outputs": [],
   "source": [
    "fraudsters = sdf_clean[sdf_clean.suspected_fraud == True][['email','suspected_fraud','fraud_count']].sort_values(by='fraud_count', ascending=False).reset_index(drop=True)\n",
    "fraudsters.to_csv('fraudsters.csv')"
   ]
  },
  {
   "cell_type": "code",
   "execution_count": null,
   "metadata": {},
   "outputs": [],
   "source": [
    "users = list(sdf_clean.email.dropna().unique())\n",
    "users"
   ]
  },
  {
   "cell_type": "code",
   "execution_count": null,
   "metadata": {},
   "outputs": [],
   "source": [
    "def similarityWithAllUsers(email):\n",
    "    similarity = np.array([junoutils.similarityRatio(email,user) for user in users])\n",
    "    sort_index = similarity.argsort()[::-1]\n",
    "    sorted_similarity = similarity[sort_index]\n",
    "    sorted_users = np.array(users)[sort_index]\n",
    "    very_similar = sorted_users[sorted_similarity >= 0.9]\n",
    "\n",
    "    if len(very_similar) > 1:\n",
    "        return list(very_similar[1:])\n",
    "    else:\n",
    "        return []\n",
    "    "
   ]
  },
  {
   "cell_type": "code",
   "execution_count": null,
   "metadata": {},
   "outputs": [],
   "source": [
    "fraudsters['alias_emails'] = fraudsters.email.apply(similarityWithAllUsers)"
   ]
  },
  {
   "cell_type": "code",
   "execution_count": null,
   "metadata": {},
   "outputs": [],
   "source": [
    "emails = []\n",
    "found_from = []\n",
    "\n",
    "\n",
    "for email in fraudsters.email:\n",
    "    \n",
    "    simlist = similarityWithAllUsers(email)\n",
    "    if len(simlist) > 0:\n",
    "        for email_new in list(simlist):\n",
    "            if email_new not in emails:\n",
    "                found_from.append(email)\n",
    "                emails.append(email_new)\n",
    "                \n",
    "expanded_list = pd.DataFrame({'email': emails, 'similar_to': found_from})"
   ]
  },
  {
   "cell_type": "code",
   "execution_count": null,
   "metadata": {},
   "outputs": [],
   "source": [
    "expanded_list.to_html('similar_emails.html')"
   ]
  },
  {
   "cell_type": "code",
   "execution_count": null,
   "metadata": {},
   "outputs": [],
   "source": [
    "expanded_list"
   ]
  }
 ],
 "metadata": {
  "kernelspec": {
   "display_name": "Python 3",
   "language": "python",
   "name": "python3"
  },
  "language_info": {
   "codemirror_mode": {
    "name": "ipython",
    "version": 3
   },
   "file_extension": ".py",
   "mimetype": "text/x-python",
   "name": "python",
   "nbconvert_exporter": "python",
   "pygments_lexer": "ipython3",
   "version": "3.6.5"
  }
 },
 "nbformat": 4,
 "nbformat_minor": 2
}
