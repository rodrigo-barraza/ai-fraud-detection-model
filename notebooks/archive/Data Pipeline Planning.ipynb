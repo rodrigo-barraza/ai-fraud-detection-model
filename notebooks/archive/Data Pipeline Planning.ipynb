{
 "cells": [
  {
   "cell_type": "markdown",
   "metadata": {},
   "source": [
    "# Model Pipeline Steps\n",
    "\n",
    "**Single Request Pre-processing**\n",
    "- Get the single credit card or interac request\n",
    "- Get the events prior to that request for the previous 60 minutes\n",
    "- Save to the database or to s3\n",
    "\n",
    "**Batch Pre-processing:**\n",
    "- Get all the interac and credit card transactions (or in a certain time period)\n",
    "- Get all the other events looking backwards in time 60 minutes\n",
    "- For each request get the events for that user within 60 minutes before the request\n",
    "- Save those request sets in a database or s3\n",
    "\n",
    "**LSTM Prep:**\n",
    "- Download the 60 minute request sets\n",
    "- Select features\n",
    "- Binarize categorical features\n",
    "- Arrange in 3D matrix \n",
    "- Save to S3\n",
    "\n",
    "**Model Training - Full:**\n",
    "- Read data from S3 or database\n",
    "- Train model\n",
    "- Save model definition to S3 - including feature names\n",
    "\n",
    "**Model Training - Update:**\n",
    "- Read new data from S3\n",
    "- Read existing model definition from S3\n",
    "- Train model on updated data\n",
    "- Save updated container state \n",
    "\n",
    "**Model Prediction:**\n",
    "- Receive "
   ]
  },
  {
   "cell_type": "code",
   "execution_count": null,
   "metadata": {},
   "outputs": [],
   "source": []
  }
 ],
 "metadata": {
  "kernelspec": {
   "display_name": "Python 3",
   "language": "python",
   "name": "python3"
  },
  "language_info": {
   "codemirror_mode": {
    "name": "ipython",
    "version": 3
   },
   "file_extension": ".py",
   "mimetype": "text/x-python",
   "name": "python",
   "nbconvert_exporter": "python",
   "pygments_lexer": "ipython3",
   "version": "3.6.5"
  }
 },
 "nbformat": 4,
 "nbformat_minor": 2
}
