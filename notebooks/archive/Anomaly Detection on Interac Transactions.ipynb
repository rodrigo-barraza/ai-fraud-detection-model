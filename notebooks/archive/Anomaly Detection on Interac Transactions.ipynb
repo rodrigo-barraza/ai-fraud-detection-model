{
 "cells": [
  {
   "cell_type": "code",
   "execution_count": null,
   "metadata": {},
   "outputs": [],
   "source": [
    "import juno.junodb as junodb\n",
    "import juno.junoutils as junoutils\n",
    "import juno.junoml as junoml\n",
    "import json\n",
    "import datetime\n",
    "import pandas as pd\n",
    "import numpy as np"
   ]
  },
  {
   "cell_type": "code",
   "execution_count": null,
   "metadata": {},
   "outputs": [],
   "source": [
    "with open('../python/pipeline/creds.json') as json_data:\n",
    "    creds = json.load(json_data)\n",
    "\n",
    "db = junodb.Database(creds)"
   ]
  },
  {
   "cell_type": "code",
   "execution_count": null,
   "metadata": {},
   "outputs": [],
   "source": [
    "datetime.timedelta(seconds=60*10)"
   ]
  },
  {
   "cell_type": "code",
   "execution_count": null,
   "metadata": {},
   "outputs": [],
   "source": [
    "events = db.getUserEvents(email='royer.8383@gmail.com')"
   ]
  },
  {
   "cell_type": "code",
   "execution_count": null,
   "metadata": {},
   "outputs": [],
   "source": [
    "events = db.getUserEvents(email='royer.8383@gmail.com')\n",
    "e = events.sort_values(by=['created'])\n",
    "e = events[['created','eventLabel','eventAction','eventCategory']]\n",
    "e['ca'] = e.eventCategory + \"_\" + e.eventAction\n",
    "e['cal'] = e.eventCategory + \"_\" + e.eventAction + \"_\" + e.eventLabel\n",
    "e = e.sort_values(by=['created'])\n",
    "e['created'] = pd.to_datetime(e['created'])\n",
    "e['last_event_time'] = e.created.shift(1)\n",
    "e = e[e.last_event_time.isnull() == False]\n",
    "e['since_last_event'] = e['created']-e['last_event_time']\n",
    "e['since_last_event'] = e['since_last_event'].astype(int)\n",
    "e['since_last_event'] = e['since_last_event']*1e-9\n",
    "\n",
    "interac_requests = e[(e['eventCategory'] == 'interac') & (e['eventAction'] == 'request')]\n",
    "interac_requests\n",
    "\n",
    "examples = []\n",
    "\n",
    "for time in interac_requests.created.values:\n",
    "    \n",
    "    now = time\n",
    "\n",
    "    ten_mins_ago = now - np.timedelta64(10*60,'s')\n",
    "    \n",
    "    x = e[(e.created >= ten_mins_ago) & (e.created <= now)]\n",
    "    \n",
    "    examples.append(x)\n",
    "    \n",
    "frauds = []\n",
    "    \n",
    "for ex in examples:\n",
    "\n",
    "    single = ex\n",
    "    categorial = ['eventLabel', 'eventAction', 'eventCategory', 'ca','cal']\n",
    "    numerical = ['since_last_event']\n",
    "    expanded = pd.get_dummies(columns=categorial, data=single, drop_first=False)\n",
    "    expanded.drop(['created','last_event_time'], axis=1, inplace=True)\n",
    "\n",
    "    time_since = expanded.since_last_event.describe()\n",
    "    time_since_lables = 'since_last_'+time_since.index\n",
    "    time_since_values = time_since.values\n",
    "\n",
    "    categorical = expanded.drop('since_last_event', axis=1)\n",
    "    categorical = categorical.sum()\n",
    "    categorical_labels = categorical.index\n",
    "    categorical_values = categorical.values\n",
    "\n",
    "    labels = list(time_since_lables)+list(categorical_labels)\n",
    "    values = list(time_since_values)+list(categorical_values)\n",
    "\n",
    "    record = dict(zip(labels, values))\n",
    "\n",
    "    frauds.append(record)\n",
    "    \n",
    "frauds = pd.DataFrame(frauds)\n",
    "\n",
    "frauds = frauds.fillna(0)\n",
    "\n",
    "frauds"
   ]
  },
  {
   "cell_type": "code",
   "execution_count": null,
   "metadata": {},
   "outputs": [],
   "source": [
    "single = examples[0]"
   ]
  },
  {
   "cell_type": "code",
   "execution_count": null,
   "metadata": {},
   "outputs": [],
   "source": [
    "all_events = pd.read_csv('./pipeline/data/events_raw.csv')"
   ]
  },
  {
   "cell_type": "code",
   "execution_count": null,
   "metadata": {},
   "outputs": [],
   "source": [
    "a = all_events[(all_events['eventCategory'] == 'interac') & (all_events['eventAction'] == 'request')]\n",
    "a = a[['metadata.email','created','eventLabel','eventAction','eventCategory']]\n",
    "a['email'] = a['metadata.email']\n",
    "a"
   ]
  },
  {
   "cell_type": "code",
   "execution_count": null,
   "metadata": {},
   "outputs": [],
   "source": [
    "def summarizeInteracRequests(email, events):\n",
    "    \n",
    "    events['email'] = junoutils.combineColumnsByPrefix(df=events, prefixlist=['email'])\n",
    "    e = events[events.email == email]\n",
    "    e = events.sort_values(by=['created'])\n",
    "    e = events[['created','eventLabel','eventAction','eventCategory']]\n",
    "    e['ca'] = e.eventCategory + \"_\" + e.eventAction\n",
    "    e['cal'] = e.eventCategory + \"_\" + e.eventAction + \"_\" + e.eventLabel\n",
    "    e = e.sort_values(by=['created'])\n",
    "    e['created'] = pd.to_datetime(e['created'])\n",
    "    e['last_event_time'] = e.created.shift(1)\n",
    "    e = e[e.last_event_time.isnull() == False]\n",
    "    e['since_last_event'] = e['created']-e['last_event_time']\n",
    "    e['since_last_event'] = e['since_last_event'].astype(int)\n",
    "    e['since_last_event'] = e['since_last_event']*1e-9\n",
    "\n",
    "    interac_requests = e[(e['eventCategory'] == 'interac') & (e['eventAction'] == 'request')]\n",
    "    interac_requests\n",
    "\n",
    "    examples = []\n",
    "\n",
    "    for time in interac_requests.created.values:\n",
    "\n",
    "        now = time\n",
    "\n",
    "        ten_mins_ago = now - np.timedelta64(10*60,'s')\n",
    "\n",
    "        x = e[(e.created >= ten_mins_ago) & (e.created <= now)]\n",
    "\n",
    "        examples.append(x)\n",
    "\n",
    "    requests = []\n",
    "\n",
    "    for ex in examples:\n",
    "\n",
    "        single = ex\n",
    "        categorial = ['eventLabel', 'eventAction', 'eventCategory', 'ca','cal']\n",
    "        numerical = ['since_last_event']\n",
    "        expanded = pd.get_dummies(columns=categorial, data=single, drop_first=False)\n",
    "        expanded.drop(['created','last_event_time'], axis=1, inplace=True)\n",
    "\n",
    "        time_since = expanded.since_last_event.describe()\n",
    "        time_since_lables = 'since_last_'+time_since.index\n",
    "        time_since_values = time_since.values\n",
    "\n",
    "        categorical = expanded.drop('since_last_event', axis=1)\n",
    "        categorical = categorical.sum()\n",
    "        categorical_labels = categorical.index\n",
    "        categorical_values = categorical.values\n",
    "\n",
    "        labels = list(time_since_lables)+list(categorical_labels)\n",
    "        values = list(time_since_values)+list(categorical_values)\n",
    "\n",
    "        record = dict(zip(labels, values))\n",
    "        record['email'] = email\n",
    "\n",
    "        requests.append(record)\n",
    "\n",
    "    return requests"
   ]
  },
  {
   "cell_type": "code",
   "execution_count": null,
   "metadata": {},
   "outputs": [],
   "source": [
    "a = all_events[(all_events['eventCategory'] == 'interac') & (all_events['eventAction'] == 'request')]\n",
    "a = a[['metadata.email','created','eventLabel','eventAction','eventCategory']]\n",
    "a['email'] = a['metadata.email']\n",
    "a = a[a['email'].isnull() == False]"
   ]
  },
  {
   "cell_type": "code",
   "execution_count": null,
   "metadata": {},
   "outputs": [],
   "source": [
    "len(a.email.unique())"
   ]
  },
  {
   "cell_type": "code",
   "execution_count": null,
   "metadata": {},
   "outputs": [],
   "source": [
    "all_requests = []\n",
    "\n",
    "for email in a.email.unique():\n",
    "    all_requests = all_requests + summarizeInteracRequests(email, a)\n",
    "    \n",
    "results = pd.DataFrame(all_requests)\n",
    "results"
   ]
  },
  {
   "cell_type": "code",
   "execution_count": null,
   "metadata": {},
   "outputs": [],
   "source": [
    "for col in sorted(results.columns):\n",
    "    print(col)"
   ]
  },
  {
   "cell_type": "code",
   "execution_count": null,
   "metadata": {},
   "outputs": [],
   "source": [
    "sub = results[['email','since_last_mean','ca_interac_request']].sort_values(by='ca_interac_request', ascending=False)\n",
    "sub[sub.email.isin(fraudsters)]"
   ]
  },
  {
   "cell_type": "code",
   "execution_count": null,
   "metadata": {},
   "outputs": [],
   "source": [
    "results = results.fillna(0)\n",
    "results = results[['email'] + list(set(results.columns)-set(['email']))]\n",
    "results"
   ]
  },
  {
   "cell_type": "code",
   "execution_count": null,
   "metadata": {},
   "outputs": [],
   "source": [
    "fraudsters = ['gaelkevin@hotmail.com','royer.8383@gmail.com','adventurous7381@gmail.com']"
   ]
  },
  {
   "cell_type": "code",
   "execution_count": null,
   "metadata": {},
   "outputs": [],
   "source": [
    "results['fraud'] = results.email.isin(fraudsters)"
   ]
  },
  {
   "cell_type": "code",
   "execution_count": null,
   "metadata": {},
   "outputs": [],
   "source": [
    "results[results.fraud == True]"
   ]
  },
  {
   "cell_type": "code",
   "execution_count": null,
   "metadata": {},
   "outputs": [],
   "source": [
    "num = results.drop(['email','fraud'], axis=1)\n",
    "\n",
    "num = junoutils.scaleDf(num)"
   ]
  },
  {
   "cell_type": "code",
   "execution_count": null,
   "metadata": {},
   "outputs": [],
   "source": [
    "auto = junoml.train_autoencoder(df=num, fraud_column=results.fraud)\n",
    "\n",
    "autoencoder_predictions = junoml.autoencoder_prediction(autoencoder=auto, scaled_data=num)"
   ]
  },
  {
   "cell_type": "code",
   "execution_count": null,
   "metadata": {},
   "outputs": [],
   "source": [
    "autoencoder_predictions['email'] = results.email"
   ]
  },
  {
   "cell_type": "code",
   "execution_count": null,
   "metadata": {},
   "outputs": [],
   "source": [
    "x = autoencoder_predictions.sort_values(by='biggest_anomaly_score_autoencoder', ascending=False)"
   ]
  },
  {
   "cell_type": "code",
   "execution_count": null,
   "metadata": {},
   "outputs": [],
   "source": [
    "x"
   ]
  },
  {
   "cell_type": "code",
   "execution_count": null,
   "metadata": {},
   "outputs": [],
   "source": [
    "x[x.email.isin(fraudsters)]"
   ]
  },
  {
   "cell_type": "code",
   "execution_count": null,
   "metadata": {},
   "outputs": [],
   "source": [
    "ifst = junoml.train_isolation_forest(data=num, contamination=0.01)"
   ]
  },
  {
   "cell_type": "code",
   "execution_count": null,
   "metadata": {},
   "outputs": [],
   "source": [
    "ifst = junoml.isolation_forest_predictions(data=num, isolation_forest=ifst)"
   ]
  },
  {
   "cell_type": "code",
   "execution_count": null,
   "metadata": {},
   "outputs": [],
   "source": [
    "results.shape"
   ]
  },
  {
   "cell_type": "code",
   "execution_count": null,
   "metadata": {},
   "outputs": [],
   "source": [
    "results['isolation_forest_anomaly'] = ifst"
   ]
  },
  {
   "cell_type": "code",
   "execution_count": null,
   "metadata": {},
   "outputs": [],
   "source": [
    "pd.DataFrame(results.groupby('email')['isolation_forest_anomaly'].sum()).reset_index().sort_values(by='isolation_forest_anomaly', ascending=False)"
   ]
  },
  {
   "cell_type": "code",
   "execution_count": null,
   "metadata": {},
   "outputs": [],
   "source": []
  }
 ],
 "metadata": {
  "kernelspec": {
   "display_name": "Python 3",
   "language": "python",
   "name": "python3"
  },
  "language_info": {
   "codemirror_mode": {
    "name": "ipython",
    "version": 3
   },
   "file_extension": ".py",
   "mimetype": "text/x-python",
   "name": "python",
   "nbconvert_exporter": "python",
   "pygments_lexer": "ipython3",
   "version": "3.6.5"
  }
 },
 "nbformat": 4,
 "nbformat_minor": 2
}
