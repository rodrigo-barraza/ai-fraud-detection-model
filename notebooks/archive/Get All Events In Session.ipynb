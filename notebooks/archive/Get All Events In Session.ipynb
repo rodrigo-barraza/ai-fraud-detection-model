{
 "cells": [
  {
   "cell_type": "code",
   "execution_count": null,
   "metadata": {},
   "outputs": [],
   "source": [
    "# for auto-reloading extensions - helpful if you're writing and testing a package\n",
    "%reload_ext autoreload\n",
    "%autoreload 2\n",
    "\n",
    "# for inline plotting in python using matplotlib\n",
    "%matplotlib inline\n",
    "import matplotlib.pyplot as plt\n",
    "\n",
    "# for easier plots - also makes matplotlib plots look nicer by default\n",
    "import seaborn as sns\n",
    "\n",
    "# set up for using plotly offline without an API key - great for interactive plots\n",
    "from plotly.offline import download_plotlyjs, init_notebook_mode, plot, iplot\n",
    "import plotly.graph_objs as go\n",
    "import plotly.figure_factory as ff\n",
    "init_notebook_mode(connected=True)\n",
    "\n",
    "# for numerical work\n",
    "import pandas as pd\n",
    "import numpy as np\n",
    "\n",
    "import pymongo\n",
    "\n",
    "import datetime\n",
    "import json\n",
    "\n",
    "from pandas.io.json import json_normalize\n",
    "from pymongo import MongoClient\n",
    "\n",
    "import pickle\n",
    "\n",
    "from confluent_kafka import Producer\n",
    "\n",
    "import bson\n",
    "from bson import json_util\n",
    "\n",
    "import avro\n",
    "\n",
    "# load the database credentials from file\n",
    "with open('../creds/creds.json') as json_data:\n",
    "    creds = json.load(json_data)\n",
    "\n",
    "# initialize the client\n",
    "client = MongoClient(creds['connection_string'])"
   ]
  },
  {
   "cell_type": "code",
   "execution_count": null,
   "metadata": {},
   "outputs": [],
   "source": [
    "def get_sessions_with_request(client):\n",
    "\n",
    "    ec = client['production']['eventCollection']\n",
    "\n",
    "    session_ids = [event['metadata']['sessionId'] for event in ec.find({'metadata.sessionId': {'$ne': None}, 'eventAction': 'click', 'eventLabel': 'submit-purchase-request'})]\n",
    "    \n",
    "    return session_ids\n",
    "\n",
    "request_sessions = get_sessions_with_request(client)"
   ]
  },
  {
   "cell_type": "code",
   "execution_count": null,
   "metadata": {},
   "outputs": [],
   "source": [
    "request_sessions = list(set(request_sessions))"
   ]
  },
  {
   "cell_type": "code",
   "execution_count": null,
   "metadata": {},
   "outputs": [],
   "source": [
    "def get_session_events(session, client):\n",
    "\n",
    "    ec = client['production']['eventCollection']\n",
    "    \n",
    "    # get the events by session id\n",
    "    session_events = [event for event in ec.find({'metadata.sessionId': session}).sort([('created',1)])]\n",
    "    \n",
    "    # get the time of the first and last event\n",
    "    start_time = session_events[0]['created']\n",
    "    end_time = session_events[-1]['created']\n",
    "    \n",
    "    # get emails from the session events if they exist\n",
    "    user_emails = [event['metadata']['email'] for event in session_events if (event.get('metadata') != None and event.get('metadata').get('email') != None and event.get('metadata').get('email') != '')]\n",
    "    \n",
    "    # if there's emails\n",
    "    if len(user_emails) > 0:\n",
    "\n",
    "        # get the most common email\n",
    "        email = max(set(user_emails)-set(['',None]), key=user_emails.count)\n",
    "        print(email)\n",
    "\n",
    "        if email not in ['', None]:\n",
    "        \n",
    "            # get the events by the user during the session time period but where there's no sessionId (not perfect - could break down with concurrent sessions by same user)\n",
    "            events_by_email = list(ec.find({'metadata.email': email, \n",
    "                                            'created': {'$gte': start_time, '$lte': end_time}, \n",
    "                                            'metadata.sessionId': None}).sort([('created',1)]))\n",
    "            \n",
    "            if len(events_by_email) > 0:\n",
    "                session_events += events_by_email\n",
    "\n",
    "            for event in session_events:\n",
    "                if event.get('metadata') != None:\n",
    "                    event['metadata']['email'] = email\n",
    "            \n",
    "    return sorted(session_events, key=lambda event: event['created'])"
   ]
  },
  {
   "cell_type": "code",
   "execution_count": null,
   "metadata": {},
   "outputs": [],
   "source": [
    "get_session_events(request_sessions[0],client)"
   ]
  }
 ],
 "metadata": {
  "kernelspec": {
   "display_name": "Python 3",
   "language": "python",
   "name": "python3"
  },
  "language_info": {
   "codemirror_mode": {
    "name": "ipython",
    "version": 3
   },
   "file_extension": ".py",
   "mimetype": "text/x-python",
   "name": "python",
   "nbconvert_exporter": "python",
   "pygments_lexer": "ipython3",
   "version": "3.6.5"
  }
 },
 "nbformat": 4,
 "nbformat_minor": 2
}
