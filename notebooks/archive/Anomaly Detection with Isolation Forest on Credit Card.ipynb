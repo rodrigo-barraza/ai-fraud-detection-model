{
 "cells": [
  {
   "cell_type": "code",
   "execution_count": null,
   "metadata": {},
   "outputs": [],
   "source": [
    "import pandas as pd\n",
    "import numpy as np\n",
    "import sklearn"
   ]
  },
  {
   "cell_type": "code",
   "execution_count": null,
   "metadata": {},
   "outputs": [],
   "source": [
    "s = pd.read_csv(\"data/small_summary.csv\")"
   ]
  },
  {
   "cell_type": "code",
   "execution_count": null,
   "metadata": {
    "scrolled": false
   },
   "outputs": [],
   "source": [
    "s.sort_values(by='anomaly_score_autoencoder', ascending=False)"
   ]
  },
  {
   "cell_type": "code",
   "execution_count": null,
   "metadata": {},
   "outputs": [],
   "source": [
    "x = s[s.email.str.contains('einstein.exchange') == False]\n",
    "x = x[x.email.str.contains('@mailinator.com') == False]\n",
    "x = x[x.email.str.contains('testing@invalidEmail.exchange') == False]\n",
    "x = x[x.email.str.contains('@mailionator.com') == False]\n",
    "x = x[x.email.str.contains('@einstine.exchange.com') == False]\n",
    "x = x[x.email.str.contains('@einstien.exchange.com') == False]\n",
    "x = x[x.email.str.contains('@eistein.exchange') == False]\n",
    "x = x[x.email.str.contains('@einstein.exchang') == False]\n",
    "x = x[x.email.str.contains('@einstein.wxchange') == False]\n",
    "x = x[x.email.str.contains('@einstein.exchane') == False]\n",
    "x = x[x.email.str.contains('@einstein.exchan') == False]\n",
    "x = x[x.email.str.contains('@einstein.exchnage') == False]\n",
    "x = x[x.email.str.contains('@einsteinexchange.com') == False]\n",
    "x = x[x.email.str.contains('@fingerfoodstudios.com') == False]\n",
    "x = x[x.email.isin(['tyson@einsteincapital.ca', 'tysonpower@gmail.com', 'bioviral@gmail.com','testing@einsteain.exchange','themarcellfraser@gmail.com']) == False]\n",
    "x.sort_values(by='anomaly_score_autoencoder', ascending=False)"
   ]
  },
  {
   "cell_type": "code",
   "execution_count": null,
   "metadata": {},
   "outputs": [],
   "source": [
    "x.to_csv(\"data/small_summary_clean.csv\", index=False)"
   ]
  },
  {
   "cell_type": "code",
   "execution_count": null,
   "metadata": {},
   "outputs": [],
   "source": [
    "import junoutils\n",
    "\n",
    "cols = ['unique_card_last_digits',\n",
    "        'unique_card_name',\n",
    "        'unique_city',\n",
    "        'unique_state',\n",
    "        'n_cla_customer-vault_verify-card_failed', 'n_ca_buy_rejected']\n",
    "\n",
    "card_data = x[x.suspected_fraud == False].sort_values(by='unique_city', ascending=False)[['email','anomaly_score_autoencoder']+cols]\n",
    "\n",
    "# card_data['card_failure_percentage'] = card_data['n_cl_customer-vault_verify-card']/card_data['n_cla_customer-vault_verify-card_failed']\n",
    "# card_data['buy_failure_percentage'] = card_data['n_ca_buy_rejected']/card_data['n_ca_buy_request']"
   ]
  },
  {
   "cell_type": "code",
   "execution_count": null,
   "metadata": {},
   "outputs": [],
   "source": [
    "card_data_scaled = junoutils.scaleDf(card_data.drop(['email','anomaly_score_autoencoder'], axis=1))"
   ]
  },
  {
   "cell_type": "code",
   "execution_count": null,
   "metadata": {},
   "outputs": [],
   "source": [
    "import junoml\n",
    "import sklearn\n",
    "\n",
    "card_data_scaled\n",
    "\n",
    "isft = sklearn.ensemble.IsolationForest(contamination=0.0035)\n",
    "isft.fit(card_data_scaled)\n",
    "predictions = isft.predict(card_data_scaled) == -1\n",
    "np.sum(predictions)"
   ]
  },
  {
   "cell_type": "code",
   "execution_count": null,
   "metadata": {},
   "outputs": [],
   "source": [
    "anomalies = card_data[predictions]"
   ]
  },
  {
   "cell_type": "code",
   "execution_count": null,
   "metadata": {},
   "outputs": [],
   "source": [
    "anomalies.to_csv('data/card_purchase_anomalies.csv')"
   ]
  }
 ],
 "metadata": {
  "kernelspec": {
   "display_name": "Python 3",
   "language": "python",
   "name": "python3"
  },
  "language_info": {
   "codemirror_mode": {
    "name": "ipython",
    "version": 3
   },
   "file_extension": ".py",
   "mimetype": "text/x-python",
   "name": "python",
   "nbconvert_exporter": "python",
   "pygments_lexer": "ipython3",
   "version": "3.6.5"
  }
 },
 "nbformat": 4,
 "nbformat_minor": 2
}
