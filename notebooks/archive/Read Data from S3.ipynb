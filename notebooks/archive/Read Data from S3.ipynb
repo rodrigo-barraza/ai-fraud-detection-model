{
 "cells": [
  {
   "cell_type": "code",
   "execution_count": null,
   "metadata": {},
   "outputs": [],
   "source": [
    "import pandas as pd\n",
    "import boto3\n",
    "from bson import json_util\n",
    "import gzip\n",
    "import glob\n",
    "from pandas.io.json import json_normalize\n",
    "S3_BUCKET_NAME = 'einstein-s3-elasticbackup'\n",
    "\n",
    "from einsteinds import event_processing"
   ]
  },
  {
   "cell_type": "code",
   "execution_count": null,
   "metadata": {},
   "outputs": [],
   "source": [
    "cal_field_dict = {}"
   ]
  },
  {
   "cell_type": "code",
   "execution_count": null,
   "metadata": {},
   "outputs": [],
   "source": [
    "user_dict = {}"
   ]
  },
  {
   "cell_type": "code",
   "execution_count": null,
   "metadata": {},
   "outputs": [],
   "source": [
    "files = sorted(glob.glob('../data/2018/*/*/*/*', recursive=True))"
   ]
  },
  {
   "cell_type": "code",
   "execution_count": null,
   "metadata": {},
   "outputs": [],
   "source": [
    "def get_json_from_gzip(path):\n",
    "\n",
    "    with gzip.open(path, 'rb') as f:\n",
    "        file_content = f.read()\n",
    "\n",
    "    decoded = file_content.decode('utf-8')\n",
    "\n",
    "    fixed = '[' + decoded.replace('}{', '},{') + ']'\n",
    "\n",
    "    json_list = json_util.loads(fixed)\n",
    "    \n",
    "    return json_list\n",
    "\n",
    "def flatten_event(event):\n",
    "    \n",
    "    return json_normalize(event).to_dict('records')[0]\n",
    "\n",
    "def fix_session(event):\n",
    "    \n",
    "    if event['eventCategory'] == 'session':\n",
    "        event['eventLabel'] = 'sessionId'\n",
    "        \n",
    "    return event\n",
    "\n",
    "def update_dict(event):\n",
    "    \n",
    "    event = flatten_event(event)\n",
    "    event = fix_session(event)\n",
    "    \n",
    "    eventCategory = 'eventCategory('+event['eventCategory']+')'\n",
    "    eventAction = 'eventAction('+event['eventAction']+')'\n",
    "    eventLabel = 'eventLabel('+event['eventLabel']+')'\n",
    "    \n",
    "    if cal_field_dict.get(eventCategory) == None:\n",
    "        cal_field_dict[eventCategory] = {}\n",
    "        cal_field_dict[eventCategory]['count'] = 0\n",
    "        cal_field_dict[eventCategory]['first_seen'] = event['created']\n",
    "        cal_field_dict[eventCategory]['last_seen'] = event['created']\n",
    "        \n",
    "    cal_field_dict[eventCategory]['first_seen'] = min(cal_field_dict[eventCategory]['first_seen'],event['created'])\n",
    "    cal_field_dict[eventCategory]['last_seen'] = max(cal_field_dict[eventCategory]['last_seen'],event['created'])\n",
    "    \n",
    "    cal_field_dict[eventCategory]['count'] += 1\n",
    "    \n",
    "    if cal_field_dict.get(eventCategory).get(eventAction) == None:\n",
    "        \n",
    "        cal_field_dict[eventCategory][eventAction] = {}\n",
    "        cal_field_dict[eventCategory][eventAction]['count'] = 0\n",
    "        cal_field_dict[eventCategory][eventAction]['first_seen'] = event['created']\n",
    "        cal_field_dict[eventCategory][eventAction]['last_seen'] = event['created']\n",
    "        \n",
    "    cal_field_dict[eventCategory][eventAction]['first_seen'] = min(cal_field_dict[eventCategory][eventAction]['first_seen'],event['created'])\n",
    "    cal_field_dict[eventCategory][eventAction]['last_seen'] = max(cal_field_dict[eventCategory][eventAction]['last_seen'],event['created'])\n",
    "    \n",
    "    cal_field_dict[eventCategory][eventAction]['count'] += 1\n",
    "        \n",
    "    if cal_field_dict.get(eventCategory).get(eventAction).get(eventLabel) == None:\n",
    "        \n",
    "        cal_field_dict[eventCategory][eventAction][eventLabel] = {}\n",
    "        cal_field_dict[eventCategory][eventAction][eventLabel]['count'] = 0\n",
    "        cal_field_dict[eventCategory][eventAction][eventLabel]['first_seen'] = event['created']\n",
    "        cal_field_dict[eventCategory][eventAction][eventLabel]['last_seen'] = event['created']\n",
    "        \n",
    "    cal_field_dict[eventCategory][eventAction][eventLabel]['first_seen'] = min(cal_field_dict[eventCategory][eventAction][eventLabel]['first_seen'],event['created'])\n",
    "    cal_field_dict[eventCategory][eventAction][eventLabel]['last_seen'] = max(cal_field_dict[eventCategory][eventAction][eventLabel]['last_seen'],event['created'])        \n",
    "    cal_field_dict[eventCategory][eventAction][eventLabel]['count'] += 1\n",
    "    \n",
    "    for field in [key for key in event.keys() if key not in ['eventCategory', 'eventLabel', 'eventAction']]:\n",
    "        \n",
    "        if cal_field_dict[eventCategory][eventAction][eventLabel].get(field) == None:\n",
    "            cal_field_dict[eventCategory][eventAction][eventLabel][field] = {}\n",
    "        \n",
    "        if cal_field_dict[eventCategory][eventAction][eventLabel][field].get('first_seen') == None:\n",
    "            cal_field_dict[eventCategory][eventAction][eventLabel][field]['first_seen'] = event['created']\n",
    "        if cal_field_dict[eventCategory][eventAction][eventLabel][field].get('last_seen') == None:\n",
    "            cal_field_dict[eventCategory][eventAction][eventLabel][field]['last_seen'] = event['created']\n",
    "            \n",
    "        first_seen = min(cal_field_dict[eventCategory][eventAction][eventLabel][field]['first_seen'], event['created'])\n",
    "        last_seen = max(cal_field_dict[eventCategory][eventAction][eventLabel][field]['last_seen'], event['created'])\n",
    "        \n",
    "        cal_field_dict[eventCategory][eventAction][eventLabel][field]['first_seen'] = first_seen\n",
    "        cal_field_dict[eventCategory][eventAction][eventLabel][field]['last_seen'] = last_seen\n",
    "        \n",
    "        if cal_field_dict[eventCategory][eventAction][eventLabel][field].get('datatypes') == None:\n",
    "            cal_field_dict[eventCategory][eventAction][eventLabel][field]['datatypes'] = {}\n",
    "        \n",
    "        if cal_field_dict[eventCategory][eventAction][eventLabel][field]['datatypes'].get(str(type(event[field]))) == None:\n",
    "            cal_field_dict[eventCategory][eventAction][eventLabel][field]['datatypes'][str(type(event[field]))] = 0\n",
    "        \n",
    "        cal_field_dict[eventCategory][eventAction][eventLabel][field]['datatypes'][str(type(event[field]))] += 1\n",
    "        \n",
    "        if cal_field_dict[eventCategory][eventAction][eventLabel][field].get('count') == None:\n",
    "            cal_field_dict[eventCategory][eventAction][eventLabel][field]['count'] = 0\n",
    "        \n",
    "        cal_field_dict[eventCategory][eventAction][eventLabel][field]['count'] += 1\n",
    "        \n",
    "def process_file_events(events):\n",
    "    for event in events:\n",
    "        update_dict(event)\n",
    "        \n",
    "def process_files(files):\n",
    "    \n",
    "    for i, file in enumerate(files):\n",
    "        \n",
    "        events = get_json_from_gzip(file)\n",
    "        \n",
    "        process_file_events(events)\n",
    "        \n",
    "        print('Done {} files'.format(i+1))\n",
    "        \n",
    "\n",
    "def update_user_dict(event):\n",
    "    \n",
    "    event = flatten_event(event)\n",
    "    event = fix_session(event)\n",
    "    \n",
    "    year = event['created'].year\n",
    "    month = event['created'].month\n",
    "    day = event['created'].day\n",
    "    hour = event['created'].hour\n",
    "    year_month = str(year)+str(month)\n",
    "    year_month_day = str(year)+str(month)+str(day)\n",
    "    year_month_day_hour = str(year)+str(month)+str(day)+'_'+str(hour)\n",
    "    \n",
    "    if event.get('metadata.email') != None and event['metadata.email'] not in [None, '']:\n",
    "        if user_dict.get(event['metadata.email']) == None:\n",
    "            user_dict[event['metadata.email']] = {}\n",
    "        \n",
    "        if user_dict[event['metadata.email']].get(year_month_day_hour) == None:\n",
    "            user_dict[event['metadata.email']][year_month_day_hour] = []\n",
    "        \n",
    "        user_dict[event['metadata.email']][year_month_day_hour].append(event)\n",
    "\n",
    "\n",
    "def files_to_user_dict(files):\n",
    "    \n",
    "    for i, file in enumerate(files):\n",
    "        \n",
    "        events = get_json_from_gzip(file)\n",
    "        \n",
    "        _ = [update_user_dict(event) for event in events]\n",
    "        \n",
    "        print('Done {} files'.format(i+1)) "
   ]
  },
  {
   "cell_type": "code",
   "execution_count": null,
   "metadata": {},
   "outputs": [],
   "source": [
    "files_to_user_dict(files)"
   ]
  },
  {
   "cell_type": "code",
   "execution_count": null,
   "metadata": {},
   "outputs": [],
   "source": [
    "for user in list(user_dict.keys()):\n",
    "    user_data = user_dict[user]\n",
    "    user_valid = user.replace('@','at').replace('/','').replace(\"\\\\\", '')\n",
    "\n",
    "    with open('../data/user_data_{}.json'.format(user_valid.lower()[0:30]), 'w') as outfile:\n",
    "        outfile.write(json_util.dumps(user_data))"
   ]
  },
  {
   "cell_type": "code",
   "execution_count": null,
   "metadata": {},
   "outputs": [],
   "source": [
    "process_files(files)"
   ]
  },
  {
   "cell_type": "code",
   "execution_count": null,
   "metadata": {},
   "outputs": [],
   "source": [
    "with open('../data/event_info.json', 'w') as outfile:\n",
    "    outfile.write(json_util.dumps(cal_field_dict))"
   ]
  },
  {
   "cell_type": "code",
   "execution_count": null,
   "metadata": {},
   "outputs": [],
   "source": [
    "for key1 in cal_field_dict.keys():\n",
    "    for key2 in cal_field_dict[key1].keys():\n",
    "        if isinstance(cal_field_dict[key1][key2], dict):\n",
    "            for key3 in cal_field_dict[key1][key2].keys():\n",
    "                print(key1,key2,key3)"
   ]
  },
  {
   "cell_type": "code",
   "execution_count": null,
   "metadata": {},
   "outputs": [],
   "source": [
    "user_files = glob.glob('../data/user_data*.json')"
   ]
  },
  {
   "cell_type": "code",
   "execution_count": null,
   "metadata": {},
   "outputs": [],
   "source": [
    "def load_bson_from_file(filepath):\n",
    "    \n",
    "    with open(filepath, 'r') as myfile:\n",
    "        data = myfile.read().replace('\\n', '')\n",
    "    \n",
    "    return json_util.loads(data)\n",
    "\n",
    "\n",
    "def load_all_events(user_dict):\n",
    "    \n",
    "    events = []\n",
    "    \n",
    "    for key in user_dict.keys():\n",
    "    \n",
    "        events += user_dict[key]\n",
    "        \n",
    "    return events\n",
    "\n",
    "\n",
    "def get_all_user_events(fp):\n",
    "    \n",
    "    return load_all_events(load_bson_from_file(fp))"
   ]
  },
  {
   "cell_type": "code",
   "execution_count": null,
   "metadata": {},
   "outputs": [],
   "source": [
    "events = []\n",
    "\n",
    "for file in files[0:1]:\n",
    "    events+= get_json_from_gzip(file)"
   ]
  },
  {
   "cell_type": "code",
   "execution_count": null,
   "metadata": {},
   "outputs": [],
   "source": [
    "clean_events = pd.DataFrame([event_processing.clean_event_minimal(event) for event in events])"
   ]
  },
  {
   "cell_type": "code",
   "execution_count": null,
   "metadata": {},
   "outputs": [],
   "source": [
    "clean_events.columns"
   ]
  },
  {
   "cell_type": "code",
   "execution_count": null,
   "metadata": {},
   "outputs": [],
   "source": [
    "categories = [{'event_category': key, 'first': cal_field_dict[key]['first_seen'], 'last': cal_field_dict[key]['last_seen']} for key in cal_field_dict.keys()]\n",
    "actions = [{'event_category': key1, 'event_action': key2, \n",
    "               'first': cal_field_dict[key1][key2]['first_seen'], \n",
    "               'last': cal_field_dict[key1][key2]['last_seen']} for key1 in cal_field_dict.keys() for key2 in cal_field_dict[key1].keys() if key2 not in ['first_seen', 'last_seen','count']]\n",
    "labels = [{'event_category': key1, 'event_action': key2, 'event_label': key3,\n",
    "               'first': cal_field_dict[key1][key2][key3]['first_seen'], \n",
    "               'last': cal_field_dict[key1][key2][key3]['last_seen']} for key1 in cal_field_dict.keys() for key2 in cal_field_dict[key1].keys() if key2 not in ['first_seen', 'last_seen','count'] for key3 in cal_field_dict[key1][key2] if key3 not in ['first_seen', 'last_seen', 'count']]\n",
    "\n",
    "fields = [{'event_category': key1, 'event_action': key2, 'event_label': key3, 'field': key4,\n",
    "               'first': cal_field_dict[key1][key2][key3][key4]['first_seen'], \n",
    "               'last': cal_field_dict[key1][key2][key3][key4]['last_seen']} \n",
    "          for key1 in cal_field_dict.keys() \n",
    "          for key2 in cal_field_dict[key1].keys() if key2 not in ['first_seen', 'last_seen','count'] \n",
    "          for key3 in cal_field_dict[key1][key2] if key3 not in ['first_seen', 'last_seen', 'count'] \n",
    "          for key4 in cal_field_dict[key1][key2][key3] if key4 not in ['first_seen', 'last_seen', 'count']]"
   ]
  },
  {
   "cell_type": "code",
   "execution_count": null,
   "metadata": {},
   "outputs": [],
   "source": [
    "dates = pd.DataFrame(fields)"
   ]
  },
  {
   "cell_type": "code",
   "execution_count": null,
   "metadata": {},
   "outputs": [],
   "source": [
    "dates.groupby(['event_category','field'])[['first','last']].aggregate({'first': 'min', 'last': 'max'}).reset_index().sort_values(['event_category','first','field'])"
   ]
  }
 ],
 "metadata": {
  "kernelspec": {
   "display_name": "Python 3",
   "language": "python",
   "name": "python3"
  },
  "language_info": {
   "codemirror_mode": {
    "name": "ipython",
    "version": 3
   },
   "file_extension": ".py",
   "mimetype": "text/x-python",
   "name": "python",
   "nbconvert_exporter": "python",
   "pygments_lexer": "ipython3",
   "version": "3.6.5"
  }
 },
 "nbformat": 4,
 "nbformat_minor": 2
}
