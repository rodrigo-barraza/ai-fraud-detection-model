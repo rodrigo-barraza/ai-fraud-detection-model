{
 "cells": [
  {
   "cell_type": "markdown",
   "metadata": {},
   "source": [
    "# Code to Prototype Uploading Fraudulent Cases to to the Mongo DB"
   ]
  },
  {
   "cell_type": "code",
   "execution_count": null,
   "metadata": {},
   "outputs": [],
   "source": [
    "import pandas as pd\n",
    "import numpy as np\n",
    "import junoutils\n",
    "import junoml\n",
    "import junodb\n",
    "import datetime"
   ]
  },
  {
   "cell_type": "code",
   "execution_count": null,
   "metadata": {},
   "outputs": [],
   "source": [
    "# set up the database client\n",
    "\n",
    "c = junodb.client\n",
    "\n",
    "p = c['production']\n",
    "\n",
    "bl = p['emailBlacklistCollection']"
   ]
  },
  {
   "cell_type": "code",
   "execution_count": null,
   "metadata": {},
   "outputs": [],
   "source": [
    "s = pd.read_csv(\"data/small_summary.csv\")\n",
    "x = s[s.email.str.contains('einstein.exchange') == False]\n",
    "x = x[x.email.str.contains('@mailinator.com') == False]\n",
    "x = x[x.email.str.contains('testing@invalidEmail.exchange') == False]\n",
    "x = x[x.email.str.contains('@mailionator.com') == False]\n",
    "x = x[x.email.str.contains('@einstine.exchange.com') == False]\n",
    "x = x[x.email.str.contains('@einstien.exchange.com') == False]\n",
    "x = x[x.email.str.contains('@eistein.exchange') == False]\n",
    "x = x[x.email.str.contains('@einstein.exchang') == False]\n",
    "x = x[x.email.str.contains('@einstein.wxchange') == False]\n",
    "x = x[x.email.str.contains('@einstein.exchane') == False]\n",
    "x = x[x.email.str.contains('@einstein.exchan') == False]\n",
    "x = x[x.email.str.contains('@einstein.exchnage') == False]\n",
    "x = x[x.email.str.contains('@einsteinexchange.com') == False]\n",
    "x = x[x.email.str.contains('@fingerfoodstudios.com') == False]\n",
    "x = x[x.email.str.contains('@finger') == False]\n",
    "x = x[x.email.str.contains('trevordasilva') == False]\n",
    "x = x[x.email.isin(['tyson@einsteincapital.ca', 'tysonpower@gmail.com', 'bioviral@gmail.com','testing@einsteain.exchange','themarcellfraser@gmail.com']) == False]\n",
    "x.sort_values(by='anomaly_score_autoencoder', ascending=False)\n",
    "s = x.copy()"
   ]
  },
  {
   "cell_type": "code",
   "execution_count": null,
   "metadata": {},
   "outputs": [],
   "source": [
    "numerical = s[list(set(s.columns) - set(junoutils.prefixColumns(['tSNE','mean','median','std_','email','fraud','anomaly'], columnlist=s.columns)))]"
   ]
  },
  {
   "cell_type": "code",
   "execution_count": null,
   "metadata": {},
   "outputs": [],
   "source": [
    "numerical_scaled = junoutils.scaleDf(numerical)"
   ]
  },
  {
   "cell_type": "code",
   "execution_count": null,
   "metadata": {},
   "outputs": [],
   "source": [
    "def insertFraudster(email, source='einsten.exchange', method=\"MANUAL\", level=\"WARNING\", notes=None, created=datetime.datetime.now()):\n",
    "    \n",
    "    record = {'email': email, \n",
    "              'source': source, \n",
    "              'method': method, \n",
    "              'level': level, \n",
    "              'notes': notes, \n",
    "              'created': created}\n",
    "    \n",
    "    print(record)\n",
    "    \n",
    "    # add logic to insert record  "
   ]
  },
  {
   "cell_type": "code",
   "execution_count": null,
   "metadata": {},
   "outputs": [],
   "source": [
    "for col in sorted(junoutils.prefixColumns(['card','failed','rejected'], numerical.columns)):\n",
    "    print(col)"
   ]
  },
  {
   "cell_type": "code",
   "execution_count": null,
   "metadata": {},
   "outputs": [],
   "source": [
    "from sklearn.ensemble import IsolationForest\n",
    "col_list = ['unique_card_name','unique_card_last_digits', \n",
    "         'n_cla_customer-vault_verify-card_failed', \n",
    "         'n_ca_customer-vault_failed', 'unique_state', 'unique_city']\n",
    "df = numerical_scaled[col_list]\n",
    "\n",
    "ifst = IsolationForest(contamination=0.0015)\n",
    "ifst.fit(df)\n",
    "preds = ifst.predict(df) == -1\n",
    "print(\"Number of Anomalies:\", np.sum(ifst.predict(df) == -1))\n",
    "s[['email','anomaly_score_autoencoder','suspected_fraud']+col_list][preds].sort_values(by='anomaly_score_autoencoder', ascending=False)"
   ]
  },
  {
   "cell_type": "code",
   "execution_count": null,
   "metadata": {},
   "outputs": [],
   "source": [
    "known_fraudsters = s[s.suspected_fraud == True][['email']]\n",
    "known_fraudsters['source'] = 'einstein.exchange'\n",
    "known_fraudsters['method'] = 'MANUAL'\n",
    "known_fraudsters['level'] = 'BLOCKED'\n",
    "known_fraudsters['notes'] = 'Known fraudulent account flagged manually by Einstein Exchange Staff due to suspicious credit card account activity.'\n",
    "known_fraudsters['created'] = datetime.datetime.now()\n",
    "known = known_fraudsters.to_dict(orient='records')\n",
    "known"
   ]
  },
  {
   "cell_type": "code",
   "execution_count": null,
   "metadata": {
    "scrolled": false
   },
   "outputs": [],
   "source": [
    "similar_emails = s[s.similar_to_fraud == True][['email']]\n",
    "similar_emails['source'] = 'einstein.exchange'\n",
    "similar_emails['method'] = 'AUTOMATIC'\n",
    "similar_emails['level'] = 'WARNING'\n",
    "similar_emails['notes'] = 'Emails flagged because they are likely aliases of known fraudulent accounts. Found by running a similarity algorithm.'\n",
    "similar_emails['created'] = datetime.datetime.now()\n",
    "similar = similar_emails.to_dict(orient='records')\n",
    "similar"
   ]
  },
  {
   "cell_type": "code",
   "execution_count": null,
   "metadata": {},
   "outputs": [],
   "source": [
    "for record in known:\n",
    "    c['production']['emailBlacklistCollection'].insert(record)"
   ]
  },
  {
   "cell_type": "code",
   "execution_count": null,
   "metadata": {},
   "outputs": [],
   "source": [
    "for record in similar:\n",
    "    c['production']['emailBlacklistCollection'].insert(record)"
   ]
  },
  {
   "cell_type": "code",
   "execution_count": null,
   "metadata": {},
   "outputs": [],
   "source": []
  }
 ],
 "metadata": {
  "kernelspec": {
   "display_name": "Python 3",
   "language": "python",
   "name": "python3"
  },
  "language_info": {
   "codemirror_mode": {
    "name": "ipython",
    "version": 3
   },
   "file_extension": ".py",
   "mimetype": "text/x-python",
   "name": "python",
   "nbconvert_exporter": "python",
   "pygments_lexer": "ipython3",
   "version": "3.6.5"
  }
 },
 "nbformat": 4,
 "nbformat_minor": 2
}
