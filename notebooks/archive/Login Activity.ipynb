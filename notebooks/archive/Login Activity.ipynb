{
 "cells": [
  {
   "cell_type": "markdown",
   "metadata": {},
   "source": [
    "# Login Activity Stats"
   ]
  },
  {
   "cell_type": "code",
   "execution_count": null,
   "metadata": {},
   "outputs": [],
   "source": [
    "# for auto-reloading extensions - helpful if you're writing and testing a package\n",
    "%reload_ext autoreload\n",
    "%autoreload 2\n",
    "\n",
    "# for inline plotting in python using matplotlib\n",
    "%matplotlib inline\n",
    "\n",
    "# set up for using plotly offline without an API key - great for interactive plots\n",
    "from plotly.offline import download_plotlyjs, init_notebook_mode, plot, iplot\n",
    "import plotly.graph_objs as go\n",
    "import plotly.figure_factory as ff\n",
    "init_notebook_mode(connected=True)\n",
    "\n",
    "# for numerical work\n",
    "import pandas as pd\n",
    "import numpy as np\n",
    "\n",
    "import pymongo\n",
    "\n",
    "import datetime\n",
    "import json\n",
    "\n",
    "from pandas.io.json import json_normalize\n",
    "from pymongo import MongoClient\n",
    "\n",
    "import bson\n",
    "from bson import json_util\n",
    "\n",
    "import re\n",
    "\n",
    "# load the database credentials from file\n",
    "with open('../creds/creds.json') as json_data:\n",
    "    creds = json.load(json_data)\n",
    "\n",
    "# initialize the client\n",
    "client = MongoClient(creds['connection_string'])"
   ]
  },
  {
   "cell_type": "code",
   "execution_count": null,
   "metadata": {},
   "outputs": [],
   "source": [
    "whitelist = [e['email'] for e in client['production']['emailWhitelistCollection'].find()]"
   ]
  },
  {
   "cell_type": "code",
   "execution_count": null,
   "metadata": {},
   "outputs": [],
   "source": [
    "def is_test_email(email):\n",
    "    \n",
    "    if (email in whitelist) or ('test' in email) or ('fingerfood' in email) or ('einstein.exchange' in email) or ('alican' in email):\n",
    "        return True\n",
    "    else:\n",
    "        return False"
   ]
  },
  {
   "cell_type": "code",
   "execution_count": null,
   "metadata": {},
   "outputs": [],
   "source": [
    "def get_email(string):\n",
    "    \n",
    "    return re.findall(\"email='(.*?)'\", string)[0]"
   ]
  },
  {
   "cell_type": "code",
   "execution_count": null,
   "metadata": {},
   "outputs": [],
   "source": [
    "ec = client['production']['eventCollection']"
   ]
  },
  {
   "cell_type": "code",
   "execution_count": null,
   "metadata": {},
   "outputs": [],
   "source": [
    "login_events = list(ec.find({'eventLabel': 'login', 'eventCategory': 'authentication'}))"
   ]
  },
  {
   "cell_type": "code",
   "execution_count": null,
   "metadata": {},
   "outputs": [],
   "source": [
    "ledf = json_normalize(login_events)"
   ]
  },
  {
   "cell_type": "code",
   "execution_count": null,
   "metadata": {},
   "outputs": [],
   "source": [
    "ledf['day'] = ledf.created.apply(lambda x: x.day)\n",
    "ledf['month'] = ledf.created.apply(lambda x: x.month)\n",
    "ledf['year'] = ledf.created.apply(lambda x: x.year)\n",
    "ledf['hour'] = ledf.created.apply(lambda x: x.hour)"
   ]
  },
  {
   "cell_type": "code",
   "execution_count": null,
   "metadata": {},
   "outputs": [],
   "source": [
    "ledf['user_email'] = ledf['metadata.request'].apply(get_email)\n",
    "ledf['testing'] = ledf.user_email.apply(is_test_email)"
   ]
  },
  {
   "cell_type": "code",
   "execution_count": null,
   "metadata": {},
   "outputs": [],
   "source": [
    "logins = ledf[['eventAction', 'created','day','month','year','hour','user_email','testing']]"
   ]
  },
  {
   "cell_type": "code",
   "execution_count": null,
   "metadata": {},
   "outputs": [],
   "source": [
    "logins[logins.testing == False].groupby(['year','month','day','hour'])['user_email'].agg(lambda x: len(x.unique())).reset_index()"
   ]
  },
  {
   "cell_type": "markdown",
   "metadata": {},
   "source": [
    "## Count of number of login actions by email"
   ]
  },
  {
   "cell_type": "code",
   "execution_count": null,
   "metadata": {},
   "outputs": [],
   "source": [
    "logins.groupby(['eventAction','user_email'])['created'].count().reset_index().sort_values(['eventAction','created'], ascending=False).rename(columns={'created':'n_events'})"
   ]
  },
  {
   "cell_type": "markdown",
   "metadata": {},
   "source": [
    "## Login events grouped by hour"
   ]
  },
  {
   "cell_type": "code",
   "execution_count": null,
   "metadata": {},
   "outputs": [],
   "source": [
    "grouped_by_hour = logins.groupby(['year','month','day','hour','eventAction'])['user_email'].count().reset_index()\n",
    "grouped_by_hour['time'] = grouped_by_hour.apply(lambda x: datetime.datetime(x['year'],x['month'],x['day'],x['hour']), axis=1) - datetime.timedelta(hours=7)\n",
    "\n",
    "grouped_by_hour = grouped_by_hour.rename(columns={'user_email':'n_events'})[['time','eventAction','n_events']]\n",
    "grouped_by_hour"
   ]
  },
  {
   "cell_type": "markdown",
   "metadata": {},
   "source": [
    "## Plot of Login Activity by Hour"
   ]
  },
  {
   "cell_type": "code",
   "execution_count": null,
   "metadata": {},
   "outputs": [],
   "source": [
    "data = [go.Scatter(\n",
    "    x=grouped_by_hour[grouped_by_hour.eventAction == action]['time'], \n",
    "    y=grouped_by_hour[grouped_by_hour.eventAction == action]['n_events'],\n",
    "    name = action) for action in grouped_by_hour.eventAction.unique()]"
   ]
  },
  {
   "cell_type": "code",
   "execution_count": null,
   "metadata": {},
   "outputs": [],
   "source": [
    "iplot(data)"
   ]
  },
  {
   "cell_type": "markdown",
   "metadata": {},
   "source": [
    "## Reviewing Old Login Events"
   ]
  },
  {
   "cell_type": "code",
   "execution_count": null,
   "metadata": {},
   "outputs": [],
   "source": [
    "old_login_events = json_normalize(list(ec.find({'eventCategory': 'login'})))"
   ]
  },
  {
   "cell_type": "code",
   "execution_count": null,
   "metadata": {},
   "outputs": [],
   "source": [
    "subset = old_login_events[['created','eventCategory','eventAction','eventLabel','metadata.email','metadata.ip']]\n",
    "subset['hour'] = subset.created.apply(lambda t: datetime.datetime(year=t.year, month=t.month, day=t.day, hour=t.hour)-datetime.timedelta(hours=7))\n",
    "subset['event_type'] = subset.eventCategory+\"_\"+subset.eventAction+\"_\"+subset.eventLabel\n",
    "subset = subset[['created','hour','event_type','metadata.email','metadata.ip']]"
   ]
  },
  {
   "cell_type": "code",
   "execution_count": null,
   "metadata": {},
   "outputs": [],
   "source": [
    "by_hour = subset.groupby(['event_type','hour'])['created'].count().reset_index()\n",
    "by_hour = by_hour.rename(columns={'created': 'n_events'})\n",
    "\n",
    "by_user = subset[subset.created >= datetime.datetime(2018,6,10)].groupby(['event_type','metadata.email'])['created'].count().reset_index()\n",
    "by_user = by_user.rename(columns={'created': 'n_events'}).sort_values('n_events', ascending=False)\n",
    "\n",
    "by_user_hour = subset.groupby(['event_type','hour','metadata.email'])['created'].count().reset_index()\n",
    "by_user_hour = by_user_hour.rename(columns={'created': 'n_events'}).sort_values('n_events', ascending=False)\n",
    "most_active_user_by_hour = by_user_hour.groupby(['event_type','hour']).apply(lambda x: (x['metadata.email'][x['n_events'].idxmax()],x['n_events'][x['n_events'].idxmax()])).reset_index().sort_values('hour', ascending=False)"
   ]
  },
  {
   "cell_type": "code",
   "execution_count": null,
   "metadata": {},
   "outputs": [],
   "source": [
    "by_hour"
   ]
  },
  {
   "cell_type": "code",
   "execution_count": null,
   "metadata": {},
   "outputs": [],
   "source": [
    "data = [go.Scatter(\n",
    "    x=by_hour[by_hour.event_type == action]['hour'], \n",
    "    y=by_hour[by_hour.event_type == action]['n_events'],\n",
    "    name = action) for action in by_hour.event_type.unique()]\n",
    "\n",
    "iplot(data)"
   ]
  },
  {
   "cell_type": "code",
   "execution_count": null,
   "metadata": {},
   "outputs": [],
   "source": [
    "june_events = list(ec.find({'created': {'$gte': datetime.datetime(2018,6,1)}}))"
   ]
  },
  {
   "cell_type": "code",
   "execution_count": null,
   "metadata": {},
   "outputs": [],
   "source": [
    "jedf = json_normalize(june_events)"
   ]
  },
  {
   "cell_type": "code",
   "execution_count": null,
   "metadata": {},
   "outputs": [],
   "source": [
    "clean = jedf\n",
    "\n",
    "clean.loc[clean.eventCategory == 'session', 'eventLabel'] =''\n",
    "clean['event_type'] = clean.eventCategory+\"_\"+clean.eventAction+\"_\"+clean.eventLabel\n",
    "clean['event_type_higher'] = clean.eventCategory+\"_\"+clean.eventAction\n",
    "clean['hour'] = clean.created.apply(lambda t: datetime.datetime(year=t.year, month=t.month, day=t.day, hour=t.hour)-datetime.timedelta(hours=7))"
   ]
  },
  {
   "cell_type": "code",
   "execution_count": null,
   "metadata": {},
   "outputs": [],
   "source": [
    "clean = clean[['created','hour','event_type','event_type_higher','metadata.email']]"
   ]
  },
  {
   "cell_type": "code",
   "execution_count": null,
   "metadata": {},
   "outputs": [],
   "source": [
    "event_type_by_hour = clean.groupby(['hour','event_type_higher'])['created'].count().reset_index().rename(columns={'created': 'n_events'})\n",
    "event_type_by_hour_low = clean.groupby(['hour','event_type'])['created'].count().reset_index().rename(columns={'created': 'n_events'})"
   ]
  },
  {
   "cell_type": "code",
   "execution_count": null,
   "metadata": {},
   "outputs": [],
   "source": [
    "def text(series, name):\n",
    "    \n",
    "    return ['Events: {} \\nEvent Type: '.format(n, name) for n in series]\n",
    "\n",
    "data = [go.Scatter(\n",
    "    x=event_type_by_hour[event_type_by_hour.event_type_higher == action]['hour'], \n",
    "    y=z_score(event_type_by_hour[event_type_by_hour.event_type_higher == action]['n_events']),\n",
    "    name = action,\n",
    "    text = text(event_type_by_hour[event_type_by_hour.event_type_higher == action]['n_events'], action)) for action in sorted(event_type_by_hour.event_type_higher.unique())]\n",
    "\n",
    "data_low = [go.Scatter(\n",
    "    x=event_type_by_hour_low[event_type_by_hour_low.event_type == action]['hour'], \n",
    "    y=z_score(event_type_by_hour_low[event_type_by_hour_low.event_type == action]['n_events']),\n",
    "    name = action,\n",
    "    text = text(event_type_by_hour_low[event_type_by_hour_low.event_type == action]['n_events'], action)) for action in sorted(event_type_by_hour_low.event_type.unique())]\n",
    "\n",
    "data = data+data_low\n",
    "\n",
    "fig = go.Figure(data=data, layout=go.Layout(title='Event Counts per Hour'))\n",
    "\n",
    "plot(fig, filename='event_types_by_hour.html')"
   ]
  },
  {
   "cell_type": "code",
   "execution_count": null,
   "metadata": {},
   "outputs": [],
   "source": [
    "def z_score(series):\n",
    "    \n",
    "    mean = np.mean(series)\n",
    "    std = np.std(series)\n",
    "    \n",
    "    zs = (series - mean)/std\n",
    "    \n",
    "    return zs"
   ]
  },
  {
   "cell_type": "code",
   "execution_count": null,
   "metadata": {},
   "outputs": [],
   "source": []
  }
 ],
 "metadata": {
  "kernelspec": {
   "display_name": "Python 3",
   "language": "python",
   "name": "python3"
  },
  "language_info": {
   "codemirror_mode": {
    "name": "ipython",
    "version": 3
   },
   "file_extension": ".py",
   "mimetype": "text/x-python",
   "name": "python",
   "nbconvert_exporter": "python",
   "pygments_lexer": "ipython3",
   "version": "3.6.5"
  }
 },
 "nbformat": 4,
 "nbformat_minor": 2
}
