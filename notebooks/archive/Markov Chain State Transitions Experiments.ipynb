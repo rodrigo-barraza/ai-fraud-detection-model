{
 "cells": [
  {
   "cell_type": "code",
   "execution_count": null,
   "metadata": {
    "collapsed": true
   },
   "outputs": [],
   "source": [
    "import pandas as pd\n",
    "import numpy as np\n",
    "import junoutils\n",
    "import json"
   ]
  },
  {
   "cell_type": "code",
   "execution_count": null,
   "metadata": {
    "collapsed": true
   },
   "outputs": [],
   "source": [
    "def calculate_transition_matrix_fast(df, states=None):\n",
    "\n",
    "    ca = df\n",
    "    \n",
    "    if states == None:\n",
    "        # figure out the unique states for the transition matrix\n",
    "        states = sorted(list(set(list(ca.origin.unique()) + list(ca.destination.unique()))))\n",
    "        \n",
    "    n_states = len(states)\n",
    "\n",
    "    gb = ca.groupby(['origin', 'destination'], as_index=False).count()\n",
    "    gb['count'] = gb['created']\n",
    "    gb = gb[['origin','destination','count']]\n",
    "\n",
    "    index_dict = {}\n",
    "\n",
    "    for i, state in enumerate(states):\n",
    "        index_dict[state] = i\n",
    "\n",
    "    gb['org_index'] = gb.origin.apply(lambda x: index_dict[x])\n",
    "    gb['dest_index'] = gb.origin.apply(lambda x: index_dict[x])\n",
    "\n",
    "    tm = np.zeros((n_states, n_states))\n",
    "\n",
    "    def update_tm(row):\n",
    "\n",
    "        tm[int(row['org_index']),int(row['dest_index'])] = int(row['count'])\n",
    "\n",
    "    gb.apply(update_tm, axis=1)\n",
    "\n",
    "    return tm\n",
    "\n",
    "\n",
    "def calculate_comparative_user_matrix(email, df, states, transition_matrix):\n",
    "    \n",
    "    udf = df[df.email == email]\n",
    "    \n",
    "    utm = calculate_transition_maxtrix(udf, states)\n",
    "    \n",
    "    comparative_matrix = np.nan_to_num(utm/transition_matrix)\n",
    "    \n",
    "    rowsums = np.apply_along_axis(arr=comparative_matrix, axis=1, func1d=np.sum).reshape(-1,1).repeat(len(states), axis=1)\n",
    "    \n",
    "    comparative_matrix = comparative_matrix/rowsums\n",
    "    \n",
    "    return comparative_matrix\n",
    "\n",
    "def transition_summary(df):\n",
    "    \n",
    "    # get rid of login auth as a destination because it doesn't make sense. Login-auth should be the entry point to a session\n",
    "#     df = df[(df['destination'].str.contains('login') & (df['destination'].str.contains('auth'))) == False]\n",
    "    \n",
    "    gb = df.groupby(['email','origin','destination'], as_index=False).count()\n",
    "    gb['user_count'] = gb['created']\n",
    "    gb = gb[['email','origin','destination','user_count']]\n",
    "    gb = gb.dropna()\n",
    "\n",
    "    total_user_activity_counts = pd.DataFrame(gb.groupby(['email'])['user_count'].sum())\n",
    "    total_user_activity_counts = total_user_activity_counts.reset_index()\n",
    "    total_user_activity_counts['total_user_count'] = total_user_activity_counts['user_count']\n",
    "    total_user_activity_counts = total_user_activity_counts[['email','total_user_count']]\n",
    "    total_user_activity_counts = total_user_activity_counts.dropna()\n",
    "\n",
    "    transition_data = gb.set_index('email').join(total_user_activity_counts.set_index('email'))\n",
    "\n",
    "    gb = df.groupby(['origin','destination'], as_index=False).count()\n",
    "    gb['alluser_transition_count'] = gb['created']\n",
    "    gb = gb[['origin','destination','alluser_transition_count']]\n",
    "    gb = gb.dropna()\n",
    "    gb.set_index(['origin','destination'])\n",
    "\n",
    "    transition_summary = transition_data.reset_index().set_index(['origin','destination']).join(gb.set_index(['origin','destination'])).reset_index()\n",
    "    transition_summary['all_user_count'] = df.shape[0]\n",
    "    transition_summary['user_proportion'] = transition_summary['user_count']/transition_summary['total_user_count']\n",
    "    transition_summary['alluser_proportion'] = transition_summary['alluser_transition_count']/transition_summary['all_user_count']\n",
    "\n",
    "    transition_summary['relative_proportion'] = transition_summary['user_proportion']/transition_summary['alluser_proportion']\n",
    "\n",
    "    return transition_summary\n",
    "\n",
    "def state_summary(df):\n",
    "    \n",
    "    all_users = pd.DataFrame(df.groupby(['destination'])['created'].count()).reset_index()\n",
    "    all_users['alluser_state_count'] = all_users['created']\n",
    "    all_users = all_users.drop('created', axis=1)\n",
    "    all_users['alluser_state_proportion'] = all_users['alluser_state_count']/np.sum(all_users['alluser_state_count'])\n",
    "        \n",
    "    users = pd.DataFrame(df.groupby(['email','destination'])['created'].count()).reset_index()\n",
    "    users['user_state_count'] = users['created']\n",
    "    users = users.drop('created', axis=1)\n",
    "    \n",
    "    ugb  = pd.DataFrame(users.groupby(['email'])['user_state_count'].sum()).reset_index()\n",
    "    ugb['user_allstate_count'] = ugb['user_state_count']\n",
    "    ugb = ugb.drop('user_state_count', axis=1)\n",
    "    \n",
    "    summary = users.set_index('email').join(ugb.set_index('email'))\n",
    "    \n",
    "    summary = summary.reset_index().set_index('destination').join(all_users.set_index('destination')).reset_index()\n",
    "    \n",
    "    summary['user_state_proportion'] = summary['user_state_count']/summary['user_allstate_count']\n",
    "    summary['relative_proportion'] = summary['user_state_proportion']/summary['alluser_state_proportion']\n",
    "    summary['state'] = summary['destination']\n",
    "    summary = summary.drop('destination', axis=1)\n",
    "    \n",
    "    return summary\n",
    "\n",
    "def user_node_json(email, df):\n",
    "    \n",
    "    df = df[df.email == email].drop('email', axis=1)\n",
    "    \n",
    "    dict_rec = df.to_dict(orient='records')\n",
    "    \n",
    "    return json.dumps(dict_rec)\n",
    "    \n",
    "def user_link_json(email, df):\n",
    "    \n",
    "    df = df[df.email == email].drop('email', axis=1)\n",
    "    \n",
    "    dict_rec = df.to_dict(orient='records')\n",
    "    \n",
    "    return json.dumps(dict_rec)"
   ]
  },
  {
   "cell_type": "code",
   "execution_count": null,
   "metadata": {},
   "outputs": [],
   "source": [
    "d = pd.read_csv('data/events_raw_20180305091800.csv')"
   ]
  },
  {
   "cell_type": "code",
   "execution_count": null,
   "metadata": {},
   "outputs": [],
   "source": [
    "d['email'] = junoutils.combineColumnsByPrefix(df=d, prefixlist=['email'])\n",
    "d[d['eventLabel'] == 'bitcoin']['eventLabel'] = 'BTC'\n",
    "d['ca'] = d.eventCategory + \"_\" + d.eventAction\n",
    "d['cl'] = d.eventCategory + \"_\" + d.eventLabel\n",
    "d['cla'] = d.eventCategory + \"_\" + d.eventLabel + \"_\" + d.eventAction\n",
    "s = d[['created','email','ca','cla','cl']]\n",
    "s = s[(s.email == '') == False]\n",
    "s = s[pd.isnull(s.email) == False]\n",
    "s = s.dropna(how='all', subset=['email'])\n",
    "s = s.sort_values(by='created', ascending=True)\n",
    "s['ca_lag_1'] = s.groupby(by='email')['ca'].shift(1)\n",
    "s['cla_lag_1'] = s.groupby(by='email')['cla'].shift(1)\n",
    "\n",
    "cla = s[['created','email','cla_lag_1','cla']].dropna()\n",
    "cla.sort_values(by=['email','created'])\n",
    "cla['origin'] = cla['cla_lag_1']\n",
    "cla['destination'] = cla['cla']\n",
    "cla = cla.drop(columns=['cla_lag_1','cla'])\n",
    "\n",
    "ca = s[['created','email','ca_lag_1','ca']].dropna()\n",
    "ca.sort_values(by=['email','created'])\n",
    "ca['origin'] = ca['ca_lag_1']\n",
    "ca['destination'] = ca['ca']\n",
    "ca = ca.drop(columns=['ca_lag_1','ca'])\n",
    "\n",
    "cla_transition_summary = transition_summary(cla)\n",
    "ca_transition_summary = transition_summary(ca)\n",
    "\n",
    "cla_state_summary = state_summary(cla)\n",
    "ca_state_summary = state_summary(ca)"
   ]
  },
  {
   "cell_type": "code",
   "execution_count": null,
   "metadata": {},
   "outputs": [],
   "source": [
    "import junoutils\n",
    "import sklearn\n",
    "\n",
    "subset = ca_transition_summary[['email','origin','destination','user_count','user_proportion','relative_proportion']]\n",
    "subset['org_dest'] = subset['origin'] +'_to_'+subset['destination']\n",
    "subset = subset.drop(['origin','destination'],axis=1)\n",
    "subset = subset.melt(id_vars=['email','org_dest'], value_name='value', value_vars=['user_count','user_proportion','relative_proportion'])\n",
    "subset['variable'] = subset['org_dest'] + '_'+ subset['variable']\n",
    "subset = subset.drop('org_dest', axis=1)\n",
    "subset = subset.set_index(['email','variable'])['value'].unstack(fill_value=0).reset_index()\n",
    "subset = pd.DataFrame(columns=list(subset.columns), data=subset.values)\n",
    "subset\n",
    "\n",
    "subset_values = subset.drop('email', axis=1)\n",
    "scaled_values = junoutils.scaleDf(subset_values)\n",
    "\n",
    "isft = sklearn.ensemble.IsolationForest(contamination=0.001, max_features=10, n_estimators=200)\n",
    "isft.fit(scaled_values)\n",
    "preds = isft.predict(scaled_values) == -1\n",
    "emails = subset[preds].email\n",
    "emails"
   ]
  },
  {
   "cell_type": "code",
   "execution_count": null,
   "metadata": {},
   "outputs": [],
   "source": [
    "nodes = ca_state_summary[['email','state','relative_proportion']]\n",
    "nodes['id'] = nodes['state']\n",
    "nodes['size'] = nodes['relative_proportion']\n",
    "nodes = nodes[['email','id','size']]\n",
    "nodes.to_csv('data/nodes.csv', index=False)\n",
    "\n",
    "links = ca_transition_summary[['email','origin','destination','relative_proportion']]\n",
    "links['source'] = links['origin']\n",
    "links['target'] = links['destination']\n",
    "links['thickness'] = links['relative_proportion']\n",
    "links = links[['email','source','target','thickness']]\n",
    "links.to_csv('data/links.csv', index=False)"
   ]
  },
  {
   "cell_type": "code",
   "execution_count": null,
   "metadata": {},
   "outputs": [],
   "source": [
    "user_node_json('insert user email here', nodes).replace('\"id\"','id').replace('\"size\"','size')\n"
   ]
  },
  {
   "cell_type": "code",
   "execution_count": null,
   "metadata": {},
   "outputs": [],
   "source": [
    "user_link_json('insert user email here', links).replace('\"source\"','source').replace('\"target\"','target').replace('\"thickness\"','thickness')"
   ]
  },
  {
   "cell_type": "code",
   "execution_count": null,
   "metadata": {},
   "outputs": [],
   "source": [
    "states = sorted(list(set(list(ca.origin.unique()) + list(ca.destination.unique()))))\n",
    "user_transition_matrix = calculate_transition_maxtrix(ca[ca.email == 'insert user email here'], states)\n",
    "comparative_user_matrix = np.nan_to_num(user_transition_matrix/transition_matrix)\n",
    "comparative_user_matrix"
   ]
  },
  {
   "cell_type": "code",
   "execution_count": null,
   "metadata": {},
   "outputs": [],
   "source": [
    "ca[ca.email == 'insert user email here'].destination.unique()"
   ]
  },
  {
   "cell_type": "code",
   "execution_count": null,
   "metadata": {},
   "outputs": [],
   "source": [
    "row = comparative_user_matrix.argmax()//comparative_user_matrix.shape[0]\n",
    "col = comparative_user_matrix.argmax()%comparative_user_matrix.shape[0]\n",
    "\n",
    "print(row, col)\n",
    "print(states[row], \" to \", states[col])"
   ]
  },
  {
   "cell_type": "code",
   "execution_count": null,
   "metadata": {},
   "outputs": [],
   "source": [
    "def calculate_state_proportions(df, states):\n",
    "\n",
    "    counts = []\n",
    "    \n",
    "    for state in states:\n",
    "        counts.append(df[df.destination == state].shape[0])\n",
    "\n",
    "    counts = np.array(counts)/np.sum(counts)\n",
    "    \n",
    "    return counts\n",
    "\n",
    "all_props = calculate_state_proportions(ca, states)\n",
    "user_props = calculate_state_proportions(ca[ca.email == 'insert user email here'], states)\n",
    "relative = user_props/all_props\n",
    "relative = relative/np.sum(relative)\n",
    "\n",
    "nodes = pd.DataFrame({'index': np.arange(len(states)), 'name': states, 'size': relative*100})\n",
    "nodes.to_dict('records')\n",
    "\n",
    "json.dumps(nodes.to_dict('records')).replace('\"index\"','index').replace('\"name\"','name').replace('\"size\"','size')"
   ]
  },
  {
   "cell_type": "code",
   "execution_count": null,
   "metadata": {},
   "outputs": [],
   "source": [
    "links = []\n",
    "\n",
    "for i, org in enumerate(states):\n",
    "    for j, des in enumerate(states):\n",
    "        if des != 'login_auth' and comparative_user_matrix[i,j] > 0:\n",
    "            links.append({'source': i, 'target': j, 'thickness': comparative_user_matrix[i,j]*100})\n",
    "\n",
    "json.dumps(links).replace('\"source\"','source').replace('\"target\"','target').replace('\"thickness\"','thickness')"
   ]
  },
  {
   "cell_type": "code",
   "execution_count": null,
   "metadata": {},
   "outputs": [],
   "source": [
    "len(s.email.unique())         "
   ]
  },
  {
   "cell_type": "code",
   "execution_count": null,
   "metadata": {},
   "outputs": [],
   "source": [
    "import time\n",
    "\n",
    "n = 100\n",
    "\n",
    "now = time.time()\n",
    "\n",
    "user_dict = {}\n",
    "\n",
    "for user in s.email.unique()[0:n]:\n",
    "    \n",
    "    user_dict[user] = calculate_comparative_user_matrix(df=ca, email=user, states=states, transition_matrix=transition_matrix)\n",
    "\n",
    "\n",
    "length = time.time() - now\n",
    "print(\"Estimated time to calculate:  \", length/n*len(s.email.unique()))"
   ]
  },
  {
   "cell_type": "code",
   "execution_count": null,
   "metadata": {
    "collapsed": true
   },
   "outputs": [],
   "source": [
    "def calc_user_matrix(df, email=None):\n",
    "\n",
    "    if email != None:\n",
    "        df = df[df.email == email]\n",
    "        gb = df.groupby(['origin', 'destination'], as_index=False).count()\n",
    "        gb['count'] = gb['created']\n",
    "        gb = gb[['origin','destination','count']]\n",
    "        gb['email'] = email\n",
    "        \n",
    "    else:\n",
    "        gb = df.groupby(['origin', 'destination'], as_index=False).count()\n",
    "        gb['count'] = gb['created']\n",
    "        gb = gb[['origin','destination','count']]\n",
    "\n",
    "\n",
    "    return gb"
   ]
  },
  {
   "cell_type": "code",
   "execution_count": null,
   "metadata": {},
   "outputs": [],
   "source": [
    "calc_user_matrix(ca, 'testing@einstein.exchange')"
   ]
  }
 ],
 "metadata": {
  "kernelspec": {
   "display_name": "Python 3",
   "language": "python",
   "name": "python3"
  },
  "language_info": {
   "codemirror_mode": {
    "name": "ipython",
    "version": 3
   },
   "file_extension": ".py",
   "mimetype": "text/x-python",
   "name": "python",
   "nbconvert_exporter": "python",
   "pygments_lexer": "ipython3",
   "version": "3.6.5"
  }
 },
 "nbformat": 4,
 "nbformat_minor": 2
}
