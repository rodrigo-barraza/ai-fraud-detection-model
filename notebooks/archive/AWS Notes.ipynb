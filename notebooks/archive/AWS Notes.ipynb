{
 "cells": [
  {
   "cell_type": "markdown",
   "metadata": {},
   "source": [
    "# AWS re:Invent 2017 - Big Data Architectural Patterns and Best Practices on AWS"
   ]
  },
  {
   "cell_type": "markdown",
   "metadata": {},
   "source": [
    "# main stages\n",
    "\n",
    "- collect\n",
    "- store\n",
    "- process\n",
    "- consume\n",
    "\n",
    "- volume\n",
    "- velocity\n",
    "- variety\n",
    "\n",
    "\n",
    "\n",
    "## What a typical pipeline looks like\n",
    "\n",
    "Important to de-couple storage and computer, so you can swap out processing / storage tools.\n",
    "\n",
    "Data --> Store --> Process --> Store --> Analyze -- Answers\n",
    "\n",
    "Data structure, latency, throughput access patterns.\n",
    "\n",
    "| Hot data | Warm Data | Cold Data |\n",
    "\n",
    "## Choosing a Data Store\n",
    "\n",
    "- Data structure - Fixed-schema, JSON, Key/Value\n",
    "- Access patterns - Store data in the format you will access it\n",
    "- Data characteristics = Hot, warm, cold\n",
    "- Cost - Right cost\n",
    "\n",
    "**Truth of data storage: You eventullay store data in the form you eventually access it.**\n",
    "\n",
    "Facet --> Use search store\n",
    "\n",
    "| Data Structure | What to use? |\n",
    "| -- | -- |\n",
    "| Fixed schema | SQL, NoSQL |\n",
    "| Schema-free (JSON) | NoSQL, Search |\n",
    "| Key/Value | In-memory, NoSQL |\n",
    "| Graph | GraphDB |\n",
    "\n",
    "| Access Patterns | What to use? |\n",
    "| -- | -- |\n",
    "| Put/Get (key, value) | In-memory, NoSQL |\n",
    "| Simple relationships -> 1:N, M:N | NoSQL |\n",
    "| Multi-table joins, transaction, SQL | SQL |\n",
    "| Faceting, Search | Search |\n",
    "| Graph traversal | GraphDB |\n",
    "\n"
   ]
  },
  {
   "cell_type": "code",
   "execution_count": null,
   "metadata": {},
   "outputs": [],
   "source": [
    "\n"
   ]
  },
  {
   "cell_type": "code",
   "execution_count": null,
   "metadata": {},
   "outputs": [],
   "source": []
  }
 ],
 "metadata": {
  "kernelspec": {
   "display_name": "Python 3",
   "language": "python",
   "name": "python3"
  },
  "language_info": {
   "codemirror_mode": {
    "name": "ipython",
    "version": 3
   },
   "file_extension": ".py",
   "mimetype": "text/x-python",
   "name": "python",
   "nbconvert_exporter": "python",
   "pygments_lexer": "ipython3",
   "version": "3.6.5"
  }
 },
 "nbformat": 4,
 "nbformat_minor": 2
}
