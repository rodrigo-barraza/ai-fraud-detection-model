{
 "cells": [
  {
   "cell_type": "code",
   "execution_count": null,
   "metadata": {},
   "outputs": [],
   "source": [
    "# for auto-reloading extensions - helpful if you're writing and testing a package\n",
    "%reload_ext autoreload\n",
    "%autoreload 2\n",
    "\n",
    "# for inline plotting in python using matplotlib\n",
    "%matplotlib inline\n",
    "import matplotlib.pyplot as plt\n",
    "\n",
    "# for easier plots - also makes matplotlib plots look nicer by default\n",
    "import seaborn as sns\n",
    "\n",
    "# set up for using plotly offline without an API key - great for interactive plots\n",
    "from plotly.offline import download_plotlyjs, init_notebook_mode, plot, iplot\n",
    "import plotly.graph_objs as go\n",
    "import plotly.figure_factory as ff\n",
    "init_notebook_mode(connected=True)\n",
    "\n",
    "# for numerical work\n",
    "import pandas as pd\n",
    "import numpy as np\n",
    "\n",
    "import pymongo\n",
    "\n",
    "import datetime\n",
    "import json\n",
    "\n",
    "from pandas.io.json import json_normalize\n",
    "from pymongo import MongoClient\n",
    "\n",
    "import pickle\n",
    "\n",
    "from confluent_kafka import Producer\n",
    "\n",
    "import bson\n",
    "from bson import json_util\n",
    "\n",
    "import avro\n",
    "\n",
    "# load the database credentials from file\n",
    "with open('../creds/creds.json') as json_data:\n",
    "    creds = json.load(json_data)\n",
    "\n",
    "# initialize the client\n",
    "client = MongoClient(creds['connection_string'])"
   ]
  },
  {
   "cell_type": "code",
   "execution_count": null,
   "metadata": {},
   "outputs": [],
   "source": [
    "def get_sessions_starts(client):\n",
    "\n",
    "    ec = client['production']['eventCollection']\n",
    "\n",
    "    session_ids = [{'sessionId': event['metadata']['sessionId'], 'created': event['created'], 'ip': event['metadata'].get('ip')} for event in ec.find({'eventAction': 'start'})]\n",
    "    \n",
    "    return session_ids\n",
    "\n",
    "sessions_with_time = get_sessions_starts(client)"
   ]
  },
  {
   "cell_type": "code",
   "execution_count": null,
   "metadata": {},
   "outputs": [],
   "source": [
    "def get_sessions_with_user(client):\n",
    "\n",
    "    ec = client['production']['eventCollection']\n",
    "\n",
    "    session_ids = [{'sessionId': event['metadata']['sessionId'], 'email': event['metadata'].get('email')} for event in ec.find({'metadata.sessionId': {'$ne': None}, 'metadata.email': {'$ne': None, '$ne': ''}})]\n",
    "    \n",
    "    return pd.DataFrame(session_ids)\n",
    "\n",
    "user_sessions = get_sessions_with_user(client)\n",
    "user_sessions = user_sessions[user_sessions.email.isna() == False]\n",
    "user_sessions = user_sessions.drop_duplicates()"
   ]
  },
  {
   "cell_type": "code",
   "execution_count": null,
   "metadata": {},
   "outputs": [],
   "source": [
    "def get_whitelist(client):\n",
    "\n",
    "    ec = client['production']['emailWhitelistCollection']\n",
    "    \n",
    "    wl = [e['email'] for e in ec.find()]\n",
    "    \n",
    "    return wl\n",
    "\n",
    "whitelist = get_whitelist(client)\n",
    "ip_filter = ['172.255.50.90','97.107.179.133','97.107.179.134','207.216.30.192','172.22.0.138','172.22.0.185','97.107.183.77','174.119.233.32','::1','localhost','127.0.0.1']"
   ]
  },
  {
   "cell_type": "code",
   "execution_count": null,
   "metadata": {},
   "outputs": [],
   "source": [
    "def is_test_email(email):\n",
    "    \n",
    "    if (email in whitelist) or ('test' in email) or ('fingerfood' in email) or ('einstein' in email):\n",
    "        return True\n",
    "    else:\n",
    "        return False"
   ]
  },
  {
   "cell_type": "code",
   "execution_count": null,
   "metadata": {},
   "outputs": [],
   "source": [
    "sessions = pd.DataFrame(sessions_with_time)\n",
    "sessions['date'] = sessions.created.apply(lambda date: \"-\".join([str(date.year),str(date.month),str(date.day)]))\n",
    "sessions = sessions.set_index('sessionId').join(user_sessions.set_index('sessionId')).reset_index()\n",
    "sessions.ip.replace(to_replace=['',None,'None',np.nan],value='noip',inplace=True)\n",
    "sessions.email.replace(to_replace=['',None,'None',np.nan],value='noemail',inplace=True)\n",
    "\n",
    "sessions['test_ip'] = sessions.ip.apply(lambda ip: True if ip in ip_filter else False)\n",
    "sessions['test_user'] = sessions.email.apply(is_test_email)\n",
    "sessions['test'] = sessions.test_ip | sessions.test_user\n",
    "sessions"
   ]
  },
  {
   "cell_type": "code",
   "execution_count": null,
   "metadata": {},
   "outputs": [],
   "source": [
    "email_sessions = sessions[sessions.email != 'noemail'][['date','email']].drop_duplicates()\n",
    "email_sessions = email_sessions[email_sessions.email.isin(whitelist) == False]\n",
    "email_sessions = email_sessions[email_sessions.email.str.contains('test') == False]\n",
    "email_sessions = email_sessions[email_sessions.email.str.contains('fingerfood') == False]\n",
    "email_sessions = email_sessions[email_sessions.email.str.contains('einstein') == False]\n",
    "summary_emails_by_date = email_sessions.groupby('date')['email'].count().reset_index()\n",
    "summary_emails_by_date['date'] = pd.to_datetime(summary_by_date.date)\n",
    "summary_emails_by_date = summary_emails_by_date.sort_values('date')"
   ]
  },
  {
   "cell_type": "code",
   "execution_count": null,
   "metadata": {},
   "outputs": [],
   "source": [
    "email_sessions = sessions[(sessions.email != 'noemail') & (sessions.test == False)][['date','email']].drop_duplicates()\n",
    "email_sessions = email_sessions[email_sessions.email.isin(whitelist) == False]\n",
    "email_sessions = email_sessions[email_sessions.email.str.contains('test') == False]\n",
    "email_sessions = email_sessions[email_sessions.email.str.contains('fingerfood') == False]\n",
    "email_sessions = email_sessions[email_sessions.email.str.contains('einstein') == False]\n",
    "summary_emails_by_date_test = email_sessions.groupby('date')['email'].count().reset_index()\n",
    "summary_emails_by_date_test['date'] = pd.to_datetime(summary_emails_by_date_test.date)\n",
    "summary_emails_by_date_test = summary_emails_by_date_test.sort_values('date')"
   ]
  },
  {
   "cell_type": "code",
   "execution_count": null,
   "metadata": {},
   "outputs": [],
   "source": [
    "noemail_sessions = sessions[sessions.email == 'noemail'][['date','sessionId']].drop_duplicates()\n",
    "summary_noemails_by_date = noemail_sessions.groupby('date')['sessionId'].count().reset_index()\n",
    "summary_noemails_by_date['date'] = pd.to_datetime(summary_noemails_by_date.date)\n",
    "summary_noemails_by_date = summary_noemails_by_date.sort_values('date')\n",
    "\n",
    "noemail_sessions = sessions[(sessions.email == 'noemail') & (sessions.test == False)][['date','sessionId']].drop_duplicates()\n",
    "summary_noemails_by_date_test = noemail_sessions.groupby('date')['sessionId'].count().reset_index()\n",
    "summary_noemails_by_date_test['date'] = pd.to_datetime(summary_noemails_by_date_test.date)\n",
    "summary_noemails_by_date_test = summary_noemails_by_date_test.sort_values('date')"
   ]
  },
  {
   "cell_type": "code",
   "execution_count": null,
   "metadata": {},
   "outputs": [],
   "source": [
    "combined = summary_emails_by_date_test.set_index('date').join(summary_noemails_by_date_test.set_index('date'))\n",
    "combined.columns = ['logged_in_users','sessions_no_user']\n",
    "combined.to_csv('session_activity.csv')"
   ]
  },
  {
   "cell_type": "code",
   "execution_count": null,
   "metadata": {},
   "outputs": [],
   "source": [
    "# Create a trace\n",
    "users = go.Scatter(\n",
    "    x = summary_emails_by_date.date,\n",
    "    y = summary_emails_by_date.email,\n",
    "    name = 'Logged In Users Including Tests'\n",
    ")\n",
    "\n",
    "userst = go.Scatter(\n",
    "    x = summary_emails_by_date_test.date,\n",
    "    y = summary_emails_by_date_test.email,\n",
    "    name = 'Logged In Users Excluding Tests'\n",
    ")\n",
    "\n",
    "anon = go.Scatter(\n",
    "    x = summary_noemails_by_date.date,\n",
    "    y = summary_noemails_by_date.sessionId,\n",
    "    name = 'Not Logged In Sessions Including Tests'\n",
    ")\n",
    "\n",
    "anont = go.Scatter(\n",
    "    x = summary_noemails_by_date_test.date,\n",
    "    y = summary_noemails_by_date_test.sessionId,\n",
    "    name = 'Not Logged In Sessions Excluding Tests'\n",
    ")\n",
    "\n",
    "\n",
    "users_layout = go.Layout(title='Unique Daily Users')\n",
    "anon_layout = go.Layout(title='Unique Sessions With No User Email')\n",
    "\n",
    "user_data = [users, userst]\n",
    "anon_data = [anon, anont]\n",
    "\n",
    "plot(go.Figure(data=user_data, layout=users_layout), filename='logged_in_users.html')\n",
    "plot(go.Figure(data=anon_data, layout=anon_layout), filename='no_user_sessions.html')"
   ]
  },
  {
   "cell_type": "code",
   "execution_count": null,
   "metadata": {},
   "outputs": [],
   "source": []
  }
 ],
 "metadata": {
  "kernelspec": {
   "display_name": "Python 3",
   "language": "python",
   "name": "python3"
  },
  "language_info": {
   "codemirror_mode": {
    "name": "ipython",
    "version": 3
   },
   "file_extension": ".py",
   "mimetype": "text/x-python",
   "name": "python",
   "nbconvert_exporter": "python",
   "pygments_lexer": "ipython3",
   "version": "3.6.5"
  }
 },
 "nbformat": 4,
 "nbformat_minor": 2
}
