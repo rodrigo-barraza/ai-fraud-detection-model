{
 "cells": [
  {
   "cell_type": "code",
   "execution_count": 178,
   "metadata": {},
   "outputs": [
    {
     "name": "stderr",
     "output_type": "stream",
     "text": [
      "DEBUG:matplotlib.backends:backend module://ipykernel.pylab.backend_inline version unknown\n"
     ]
    },
    {
     "data": {
      "text/html": [
       "<script>requirejs.config({paths: { 'plotly': ['https://cdn.plot.ly/plotly-latest.min']},});if(!window.Plotly) {{require(['plotly'],function(plotly) {window.Plotly=plotly;});}}</script>"
      ],
      "text/vnd.plotly.v1+html": [
       "<script>requirejs.config({paths: { 'plotly': ['https://cdn.plot.ly/plotly-latest.min']},});if(!window.Plotly) {{require(['plotly'],function(plotly) {window.Plotly=plotly;});}}</script>"
      ]
     },
     "metadata": {},
     "output_type": "display_data"
    }
   ],
   "source": [
    "# for auto-reloading extensions - helpful if you're writing and testing a package\n",
    "%reload_ext autoreload\n",
    "%autoreload 2\n",
    "\n",
    "# for inline plotting in python using matplotlib\n",
    "%matplotlib inline\n",
    "import matplotlib.pyplot as plt\n",
    "\n",
    "# for easier plots - also makes matplotlib plots look nicer by default\n",
    "import seaborn as sns\n",
    "\n",
    "# set up for using plotly offline without an API key - great for interactive plots\n",
    "from plotly.offline import download_plotlyjs, init_notebook_mode, plot, iplot\n",
    "import plotly.graph_objs as go\n",
    "import plotly.figure_factory as ff\n",
    "init_notebook_mode(connected=True)\n",
    "\n",
    "# for numerical work\n",
    "import pandas as pd\n",
    "import numpy as np\n",
    "\n",
    "import pymongo\n",
    "\n",
    "import datetime\n",
    "import time\n",
    "import json\n",
    "\n",
    "from pandas.io.json import json_normalize\n",
    "from pymongo import MongoClient\n",
    "\n",
    "import pickle\n",
    "\n",
    "from confluent_kafka import Producer\n",
    "\n",
    "import bson\n",
    "from bson import json_util\n",
    "\n",
    "import math\n",
    "\n",
    "from einsteinds import db as edb\n",
    "from einsteinds import event_processing\n",
    "from einsteinds import ml\n",
    "from einsteinds import plots\n",
    "from einsteinds import utils\n",
    "\n",
    "\n",
    "from scipy import stats\n",
    "from sklearn.model_selection import train_test_split\n",
    "from sklearn.preprocessing import StandardScaler, scale\n",
    "from keras.models import Model, load_model\n",
    "from keras.layers import Input, Dense\n",
    "from keras.callbacks import ModelCheckpoint, TensorBoard\n",
    "from keras import regularizers\n",
    "\n",
    "\n",
    "clean_events = event_processing.clean_events\n",
    "\n",
    "# load the database credentials from file\n",
    "with open('../creds/local_creds.json') as json_data:\n",
    "    creds = json.load(json_data)"
   ]
  },
  {
   "cell_type": "code",
   "execution_count": 3,
   "metadata": {},
   "outputs": [],
   "source": [
    "# initialize the database\n",
    "db = edb.Database(creds)"
   ]
  },
  {
   "cell_type": "code",
   "execution_count": 4,
   "metadata": {},
   "outputs": [
    {
     "name": "stdout",
     "output_type": "stream",
     "text": [
      "Reading Requests from the Database\n",
      "Flattening Request Sets\n",
      "Generating summary features\n"
     ]
    },
    {
     "name": "stderr",
     "output_type": "stream",
     "text": [
      "/home/kitson/anaconda3/lib/python3.6/site-packages/numpy/lib/nanfunctions.py:1434: RuntimeWarning:\n",
      "\n",
      "Degrees of freedom <= 0 for slice.\n",
      "\n",
      "/home/kitson/anaconda3/lib/python3.6/site-packages/numpy/lib/nanfunctions.py:1315: RuntimeWarning:\n",
      "\n",
      "invalid value encountered in subtract\n",
      "\n"
     ]
    }
   ],
   "source": [
    "# get the request summaries for the month of January and February\n",
    "request_summaries = db.get_summarized_request_sets(start_date=datetime.datetime(2018,1,1), end_date=datetime.datetime(2018,3,1))"
   ]
  },
  {
   "cell_type": "code",
   "execution_count": 5,
   "metadata": {},
   "outputs": [],
   "source": [
    "request_summaries_with_fraud = db.add_fraud_label(request_summaries, 'user_email')"
   ]
  },
  {
   "cell_type": "code",
   "execution_count": 200,
   "metadata": {},
   "outputs": [],
   "source": [
    "normal_requests = request_summaries_with_fraud[request_summaries_with_fraud.fraud == False]\n",
    "fraud_requests = request_summaries_with_fraud[request_summaries_with_fraud.fraud == True]\n",
    "\n",
    "X = normal_requests.replace([np.nan, np.inf], 0).drop(['user_email','fraud'], axis=1).values.astype('float')\n",
    "X_fraud = fraud_requests.replace([np.nan, np.inf], 0).drop(['user_email','fraud'], axis=1).values.astype('float')\n",
    "X_all = request_summaries_with_fraud.replace([np.nan, np.inf], 0).drop(['user_email','fraud'], axis=1).values.astype('float')"
   ]
  },
  {
   "cell_type": "code",
   "execution_count": 192,
   "metadata": {},
   "outputs": [],
   "source": [
    "ss = StandardScaler()\n",
    "ss.fit(X)\n",
    "\n",
    "scaled_X = ss.transform(X)\n",
    "\n",
    "X_train, X_test = train_test_split(scaled_X, test_size=0.2, random_state=1983)"
   ]
  },
  {
   "cell_type": "code",
   "execution_count": 193,
   "metadata": {},
   "outputs": [],
   "source": [
    "def build_autoencoder(input_dim, encoded_dim, reduction_factor, X_train, X_test):\n",
    "    \n",
    "    # reduce the layer size\n",
    "    current_dim = math.ceil(input_dim/reduction_factor)\n",
    "    \n",
    "    layer_sizes = []\n",
    "    \n",
    "    input_layer = Input(shape=(input_dim,))\n",
    "    encoded = input_layer\n",
    "                    \n",
    "    while current_dim > encoded_dim:\n",
    "    \n",
    "        encoded = Dense(current_dim, activation='relu')(encoded)\n",
    "        layer_sizes.append(current_dim)\n",
    "        current_dim = math.ceil(current_dim/reduction_factor)\n",
    "        \n",
    "    \n",
    "    encoded = Dense(encoded_dim, activation='relu', name='encoder')(encoded)\n",
    "\n",
    "    decoded = Dense(layer_sizes.pop(), activation='relu')(encoded)\n",
    "    \n",
    "    while len(layer_sizes) > 0:\n",
    "        \n",
    "        size = layer_sizes.pop()\n",
    "        decoded = Dense(size, activation='relu')(decoded)\n",
    "\n",
    "    decoded = Dense(input_dim, activation='tanh')(decoded)\n",
    "                   \n",
    "    autoencoder = Model(input_layer, decoded)\n",
    "    encoder = Model(input_layer, encoded)\n",
    "                        \n",
    "    autoencoder.compile(optimizer='adadelta', loss='mse')\n",
    "    \n",
    "    autoencoder.fit(X_train, X_train,\n",
    "                    epochs=100,\n",
    "                    batch_size=256,\n",
    "                    shuffle=True,\n",
    "                    validation_data=(X_test, X_test))\n",
    "    \n",
    "    print(autoencoder.summary())\n",
    "                        \n",
    "    return autoencoder"
   ]
  },
  {
   "cell_type": "code",
   "execution_count": 194,
   "metadata": {},
   "outputs": [
    {
     "name": "stdout",
     "output_type": "stream",
     "text": [
      "Train on 10958 samples, validate on 2740 samples\n",
      "Epoch 1/100\n",
      "10958/10958 [==============================] - 3s 251us/step - loss: 0.9885 - val_loss: 0.9350\n",
      "Epoch 2/100\n",
      "10958/10958 [==============================] - 0s 44us/step - loss: 0.9099 - val_loss: 0.8536\n",
      "Epoch 3/100\n",
      "10958/10958 [==============================] - 1s 47us/step - loss: 0.8822 - val_loss: 0.8466\n",
      "Epoch 4/100\n",
      "10958/10958 [==============================] - 1s 47us/step - loss: 0.8727 - val_loss: 0.8357\n",
      "Epoch 5/100\n",
      "10958/10958 [==============================] - 0s 42us/step - loss: 0.8616 - val_loss: 0.8266\n",
      "Epoch 6/100\n",
      "10958/10958 [==============================] - 0s 43us/step - loss: 0.8483 - val_loss: 0.8115\n",
      "Epoch 7/100\n",
      "10958/10958 [==============================] - 1s 49us/step - loss: 0.8341 - val_loss: 0.7999\n",
      "Epoch 8/100\n",
      "10958/10958 [==============================] - 1s 46us/step - loss: 0.8244 - val_loss: 0.7917\n",
      "Epoch 9/100\n",
      "10958/10958 [==============================] - 0s 45us/step - loss: 0.8177 - val_loss: 0.7841\n",
      "Epoch 10/100\n",
      "10958/10958 [==============================] - 0s 45us/step - loss: 0.8123 - val_loss: 0.7800\n",
      "Epoch 11/100\n",
      "10958/10958 [==============================] - 1s 46us/step - loss: 0.8049 - val_loss: 0.7756\n",
      "Epoch 12/100\n",
      "10958/10958 [==============================] - 0s 45us/step - loss: 0.8026 - val_loss: 0.7706\n",
      "Epoch 13/100\n",
      "10958/10958 [==============================] - 0s 44us/step - loss: 0.7980 - val_loss: 0.7669\n",
      "Epoch 14/100\n",
      "10958/10958 [==============================] - 1s 54us/step - loss: 0.7955 - val_loss: 0.7651\n",
      "Epoch 15/100\n",
      "10958/10958 [==============================] - 1s 53us/step - loss: 0.7937 - val_loss: 0.7646\n",
      "Epoch 16/100\n",
      "10958/10958 [==============================] - 1s 48us/step - loss: 0.7911 - val_loss: 0.7611\n",
      "Epoch 17/100\n",
      "10958/10958 [==============================] - 1s 49us/step - loss: 0.7897 - val_loss: 0.7603\n",
      "Epoch 18/100\n",
      "10958/10958 [==============================] - 1s 49us/step - loss: 0.7880 - val_loss: 0.7592\n",
      "Epoch 19/100\n",
      "10958/10958 [==============================] - 1s 49us/step - loss: 0.7858 - val_loss: 0.7567\n",
      "Epoch 20/100\n",
      "10958/10958 [==============================] - 1s 52us/step - loss: 0.7850 - val_loss: 0.7547\n",
      "Epoch 21/100\n",
      "10958/10958 [==============================] - 1s 51us/step - loss: 0.7834 - val_loss: 0.7559\n",
      "Epoch 22/100\n",
      "10958/10958 [==============================] - 1s 50us/step - loss: 0.7817 - val_loss: 0.7519\n",
      "Epoch 23/100\n",
      "10958/10958 [==============================] - 1s 50us/step - loss: 0.7809 - val_loss: 0.7545\n",
      "Epoch 24/100\n",
      "10958/10958 [==============================] - 1s 46us/step - loss: 0.7792 - val_loss: 0.7500\n",
      "Epoch 25/100\n",
      "10958/10958 [==============================] - 1s 47us/step - loss: 0.7785 - val_loss: 0.7479\n",
      "Epoch 26/100\n",
      "10958/10958 [==============================] - 1s 49us/step - loss: 0.7768 - val_loss: 0.7471\n",
      "Epoch 27/100\n",
      "10958/10958 [==============================] - 1s 49us/step - loss: 0.7763 - val_loss: 0.7520\n",
      "Epoch 28/100\n",
      "10958/10958 [==============================] - 1s 50us/step - loss: 0.7758 - val_loss: 0.7459\n",
      "Epoch 29/100\n",
      "10958/10958 [==============================] - 1s 57us/step - loss: 0.7743 - val_loss: 0.7511\n",
      "Epoch 30/100\n",
      "10958/10958 [==============================] - 1s 46us/step - loss: 0.7738 - val_loss: 0.7440\n",
      "Epoch 31/100\n",
      "10958/10958 [==============================] - 1s 47us/step - loss: 0.7733 - val_loss: 0.7452\n",
      "Epoch 32/100\n",
      "10958/10958 [==============================] - 0s 45us/step - loss: 0.7722 - val_loss: 0.7488\n",
      "Epoch 33/100\n",
      "10958/10958 [==============================] - 1s 56us/step - loss: 0.7717 - val_loss: 0.7433\n",
      "Epoch 34/100\n",
      "10958/10958 [==============================] - 1s 46us/step - loss: 0.7712 - val_loss: 0.7412\n",
      "Epoch 35/100\n",
      "10958/10958 [==============================] - 1s 46us/step - loss: 0.7709 - val_loss: 0.7402\n",
      "Epoch 36/100\n",
      "10958/10958 [==============================] - 1s 46us/step - loss: 0.7694 - val_loss: 0.7436\n",
      "Epoch 37/100\n",
      "10958/10958 [==============================] - 1s 47us/step - loss: 0.7697 - val_loss: 0.7417\n",
      "Epoch 38/100\n",
      "10958/10958 [==============================] - 1s 51us/step - loss: 0.7685 - val_loss: 0.7402\n",
      "Epoch 39/100\n",
      "10958/10958 [==============================] - 1s 60us/step - loss: 0.7683 - val_loss: 0.7388\n",
      "Epoch 40/100\n",
      "10958/10958 [==============================] - 0s 45us/step - loss: 0.7675 - val_loss: 0.7414\n",
      "Epoch 41/100\n",
      "10958/10958 [==============================] - 1s 46us/step - loss: 0.7680 - val_loss: 0.7384\n",
      "Epoch 42/100\n",
      "10958/10958 [==============================] - 1s 46us/step - loss: 0.7660 - val_loss: 0.7375\n",
      "Epoch 43/100\n",
      "10958/10958 [==============================] - 1s 46us/step - loss: 0.7660 - val_loss: 0.7365\n",
      "Epoch 44/100\n",
      "10958/10958 [==============================] - 0s 46us/step - loss: 0.7660 - val_loss: 0.7362\n",
      "Epoch 45/100\n",
      "10958/10958 [==============================] - 0s 45us/step - loss: 0.7645 - val_loss: 0.7479\n",
      "Epoch 46/100\n",
      "10958/10958 [==============================] - 1s 46us/step - loss: 0.7648 - val_loss: 0.7348\n",
      "Epoch 47/100\n",
      "10958/10958 [==============================] - 0s 45us/step - loss: 0.7637 - val_loss: 0.7352\n",
      "Epoch 48/100\n",
      "10958/10958 [==============================] - 0s 42us/step - loss: 0.7638 - val_loss: 0.7340\n",
      "Epoch 49/100\n",
      "10958/10958 [==============================] - 0s 42us/step - loss: 0.7628 - val_loss: 0.7343\n",
      "Epoch 50/100\n",
      "10958/10958 [==============================] - 0s 43us/step - loss: 0.7636 - val_loss: 0.7324\n",
      "Epoch 51/100\n",
      "10958/10958 [==============================] - 0s 43us/step - loss: 0.7618 - val_loss: 0.7338\n",
      "Epoch 52/100\n",
      "10958/10958 [==============================] - 0s 42us/step - loss: 0.7621 - val_loss: 0.7337\n",
      "Epoch 53/100\n",
      "10958/10958 [==============================] - 0s 43us/step - loss: 0.7610 - val_loss: 0.7319\n",
      "Epoch 54/100\n",
      "10958/10958 [==============================] - 0s 43us/step - loss: 0.7606 - val_loss: 0.7324\n",
      "Epoch 55/100\n",
      "10958/10958 [==============================] - 0s 44us/step - loss: 0.7601 - val_loss: 0.7305\n",
      "Epoch 56/100\n",
      "10958/10958 [==============================] - 0s 42us/step - loss: 0.7598 - val_loss: 0.7297\n",
      "Epoch 57/100\n",
      "10958/10958 [==============================] - 0s 42us/step - loss: 0.7597 - val_loss: 0.7294\n",
      "Epoch 58/100\n",
      "10958/10958 [==============================] - 0s 43us/step - loss: 0.7585 - val_loss: 0.7303\n",
      "Epoch 59/100\n",
      "10958/10958 [==============================] - 0s 45us/step - loss: 0.7590 - val_loss: 0.7323\n",
      "Epoch 60/100\n",
      "10958/10958 [==============================] - 1s 46us/step - loss: 0.7582 - val_loss: 0.7321\n",
      "Epoch 61/100\n",
      "10958/10958 [==============================] - 0s 44us/step - loss: 0.7582 - val_loss: 0.7304\n",
      "Epoch 62/100\n",
      "10958/10958 [==============================] - 0s 44us/step - loss: 0.7576 - val_loss: 0.7298\n",
      "Epoch 63/100\n",
      "10958/10958 [==============================] - 0s 44us/step - loss: 0.7576 - val_loss: 0.7291\n",
      "Epoch 64/100\n",
      "10958/10958 [==============================] - 0s 45us/step - loss: 0.7574 - val_loss: 0.7272\n",
      "Epoch 65/100\n",
      "10958/10958 [==============================] - 0s 45us/step - loss: 0.7559 - val_loss: 0.7272\n",
      "Epoch 66/100\n",
      "10958/10958 [==============================] - 0s 45us/step - loss: 0.7569 - val_loss: 0.7277\n",
      "Epoch 67/100\n",
      "10958/10958 [==============================] - 1s 52us/step - loss: 0.7562 - val_loss: 0.7293\n",
      "Epoch 68/100\n",
      "10958/10958 [==============================] - 1s 46us/step - loss: 0.7559 - val_loss: 0.7271\n",
      "Epoch 69/100\n",
      "10958/10958 [==============================] - 0s 45us/step - loss: 0.7558 - val_loss: 0.7295\n",
      "Epoch 70/100\n",
      "10958/10958 [==============================] - 0s 46us/step - loss: 0.7555 - val_loss: 0.7259\n",
      "Epoch 71/100\n",
      "10958/10958 [==============================] - 1s 46us/step - loss: 0.7553 - val_loss: 0.7262\n",
      "Epoch 72/100\n",
      "10958/10958 [==============================] - 1s 50us/step - loss: 0.7554 - val_loss: 0.7339\n",
      "Epoch 73/100\n",
      "10958/10958 [==============================] - 0s 43us/step - loss: 0.7550 - val_loss: 0.7282\n",
      "Epoch 74/100\n",
      "10958/10958 [==============================] - 0s 45us/step - loss: 0.7551 - val_loss: 0.7265\n",
      "Epoch 75/100\n",
      "10958/10958 [==============================] - 0s 46us/step - loss: 0.7539 - val_loss: 0.7257\n",
      "Epoch 76/100\n",
      "10958/10958 [==============================] - 0s 45us/step - loss: 0.7539 - val_loss: 0.7285\n",
      "Epoch 77/100\n",
      "10958/10958 [==============================] - 0s 45us/step - loss: 0.7544 - val_loss: 0.7256\n",
      "Epoch 78/100\n",
      "10958/10958 [==============================] - 0s 43us/step - loss: 0.7537 - val_loss: 0.7280\n",
      "Epoch 79/100\n",
      "10958/10958 [==============================] - 0s 42us/step - loss: 0.7544 - val_loss: 0.7243\n",
      "Epoch 80/100\n",
      "10958/10958 [==============================] - 0s 43us/step - loss: 0.7529 - val_loss: 0.7250\n",
      "Epoch 81/100\n",
      "10958/10958 [==============================] - 0s 43us/step - loss: 0.7541 - val_loss: 0.7264\n",
      "Epoch 82/100\n",
      "10958/10958 [==============================] - 0s 43us/step - loss: 0.7532 - val_loss: 0.7242\n",
      "Epoch 83/100\n",
      "10958/10958 [==============================] - 0s 43us/step - loss: 0.7541 - val_loss: 0.7237\n",
      "Epoch 84/100\n",
      "10958/10958 [==============================] - 0s 43us/step - loss: 0.7524 - val_loss: 0.7235\n",
      "Epoch 85/100\n",
      "10958/10958 [==============================] - 0s 43us/step - loss: 0.7525 - val_loss: 0.7263\n",
      "Epoch 86/100\n",
      "10958/10958 [==============================] - 0s 44us/step - loss: 0.7534 - val_loss: 0.7232\n",
      "Epoch 87/100\n",
      "10958/10958 [==============================] - 1s 46us/step - loss: 0.7523 - val_loss: 0.7263\n",
      "Epoch 88/100\n",
      "10958/10958 [==============================] - 0s 44us/step - loss: 0.7532 - val_loss: 0.7242\n",
      "Epoch 89/100\n",
      "10958/10958 [==============================] - 1s 47us/step - loss: 0.7517 - val_loss: 0.7242\n",
      "Epoch 90/100\n",
      "10958/10958 [==============================] - 1s 47us/step - loss: 0.7522 - val_loss: 0.7228\n",
      "Epoch 91/100\n",
      "10958/10958 [==============================] - 1s 47us/step - loss: 0.7520 - val_loss: 0.7250\n",
      "Epoch 92/100\n",
      "10958/10958 [==============================] - 0s 44us/step - loss: 0.7519 - val_loss: 0.7236\n",
      "Epoch 93/100\n",
      "10958/10958 [==============================] - 0s 46us/step - loss: 0.7521 - val_loss: 0.7260\n",
      "Epoch 94/100\n",
      "10958/10958 [==============================] - 0s 45us/step - loss: 0.7525 - val_loss: 0.7223\n",
      "Epoch 95/100\n",
      "10958/10958 [==============================] - 0s 45us/step - loss: 0.7516 - val_loss: 0.7236\n",
      "Epoch 96/100\n",
      "10958/10958 [==============================] - 0s 43us/step - loss: 0.7519 - val_loss: 0.7249\n",
      "Epoch 97/100\n",
      "10958/10958 [==============================] - 0s 44us/step - loss: 0.7514 - val_loss: 0.7228\n",
      "Epoch 98/100\n",
      "10958/10958 [==============================] - 0s 44us/step - loss: 0.7511 - val_loss: 0.7240\n",
      "Epoch 99/100\n",
      "10958/10958 [==============================] - 0s 44us/step - loss: 0.7511 - val_loss: 0.7219\n",
      "Epoch 100/100\n",
      "10958/10958 [==============================] - 0s 44us/step - loss: 0.7510 - val_loss: 0.7258\n",
      "_________________________________________________________________\n",
      "Layer (type)                 Output Shape              Param #   \n",
      "=================================================================\n",
      "input_27 (InputLayer)        (None, 526)               0         \n",
      "_________________________________________________________________\n",
      "dense_350 (Dense)            (None, 263)               138601    \n",
      "_________________________________________________________________\n",
      "dense_351 (Dense)            (None, 132)               34848     \n",
      "_________________________________________________________________\n",
      "dense_352 (Dense)            (None, 66)                8778      \n",
      "_________________________________________________________________\n",
      "dense_353 (Dense)            (None, 33)                2211      \n",
      "_________________________________________________________________\n",
      "dense_354 (Dense)            (None, 17)                578       \n",
      "_________________________________________________________________\n",
      "encoder (Dense)              (None, 10)                180       \n",
      "_________________________________________________________________\n",
      "dense_355 (Dense)            (None, 17)                187       \n",
      "_________________________________________________________________\n",
      "dense_356 (Dense)            (None, 33)                594       \n",
      "_________________________________________________________________\n",
      "dense_357 (Dense)            (None, 66)                2244      \n",
      "_________________________________________________________________\n",
      "dense_358 (Dense)            (None, 132)               8844      \n",
      "_________________________________________________________________\n",
      "dense_359 (Dense)            (None, 263)               34979     \n",
      "_________________________________________________________________\n",
      "dense_360 (Dense)            (None, 526)               138864    \n",
      "=================================================================\n",
      "Total params: 370,908\n",
      "Trainable params: 370,908\n",
      "Non-trainable params: 0\n",
      "_________________________________________________________________\n",
      "None\n"
     ]
    }
   ],
   "source": [
    "autoencoder = build_autoencoder(input_dim=scaled_X.shape[1], encoded_dim=10, reduction_factor=2, X_train=X_train, X_test=X_test)"
   ]
  },
  {
   "cell_type": "code",
   "execution_count": 183,
   "metadata": {},
   "outputs": [],
   "source": [
    "def calculate_squared_errors(X, autoencoder):\n",
    "    \n",
    "    X_predicted = autoencoder.predict(X)\n",
    "    \n",
    "    errors = X_predicted - X\n",
    "    \n",
    "    def squared_error(x):\n",
    "        return np.sum(np.power(x, 2))\n",
    "\n",
    "    squared_errors = np.apply_along_axis(squared_error, axis=1, arr=errors)\n",
    "    \n",
    "    return squared_errors"
   ]
  },
  {
   "cell_type": "code",
   "execution_count": 195,
   "metadata": {},
   "outputs": [],
   "source": [
    "serrors_normal = calculate_squared_errors(scaled_X, autoencoder)"
   ]
  },
  {
   "cell_type": "code",
   "execution_count": 196,
   "metadata": {},
   "outputs": [
    {
     "data": {
      "text/plain": [
       "<matplotlib.axes._subplots.AxesSubplot at 0x7f50cc3a8ac8>"
      ]
     },
     "execution_count": 196,
     "metadata": {},
     "output_type": "execute_result"
    },
    {
     "data": {
      "image/png": "[encoded data removed]",
      "text/plain": [
       "<Figure size 432x288 with 1 Axes>"
      ]
     },
     "metadata": {},
     "output_type": "display_data"
    }
   ],
   "source": [
    "sns.distplot(serrors_normal, hist=False)"
   ]
  },
  {
   "cell_type": "code",
   "execution_count": 202,
   "metadata": {},
   "outputs": [],
   "source": [
    "X_fraud_scaled = ss.transform(X_fraud)\n",
    "X_all_scaled = ss.transform(X_all)"
   ]
  },
  {
   "cell_type": "code",
   "execution_count": 203,
   "metadata": {},
   "outputs": [],
   "source": [
    "serrors_fraud = calculate_squared_errors(X_fraud_scaled, autoencoder)\n",
    "serrors_all = calculate_squared_errors(X_all_scaled, autoencoder)"
   ]
  },
  {
   "cell_type": "code",
   "execution_count": 223,
   "metadata": {},
   "outputs": [
    {
     "name": "stdout",
     "output_type": "stream",
     "text": [
      "100897.06003343545\n",
      "6409.070642205672\n"
     ]
    },
    {
     "data": {
      "image/png": "[encoded data removed]",
      "text/plain": [
       "<Figure size 432x288 with 1 Axes>"
      ]
     },
     "metadata": {},
     "output_type": "display_data"
    }
   ],
   "source": [
    "sns.distplot(serrors_fraud, hist=False)\n",
    "\n",
    "print(np.mean(serrors_fraud))\n",
    "print(np.median(serrors_fraud))"
   ]
  },
  {
   "cell_type": "code",
   "execution_count": 224,
   "metadata": {},
   "outputs": [
    {
     "name": "stdout",
     "output_type": "stream",
     "text": [
      "9977.877189640414\n",
      "9.927545226899362\n"
     ]
    },
    {
     "data": {
      "image/png": "[encoded data removed]",
      "text/plain": [
       "<Figure size 432x288 with 1 Axes>"
      ]
     },
     "metadata": {},
     "output_type": "display_data"
    }
   ],
   "source": [
    "sns.distplot(serrors_all, hist=False)\n",
    "\n",
    "print(np.mean(serrors_all))\n",
    "print(np.median(serrors_all))"
   ]
  },
  {
   "cell_type": "code",
   "execution_count": 206,
   "metadata": {},
   "outputs": [],
   "source": [
    "request_summaries_with_fraud['squared_errors'] = serrors_all"
   ]
  },
  {
   "cell_type": "code",
   "execution_count": 221,
   "metadata": {},
   "outputs": [
    {
     "data": {
      "text/plain": [
       "fraud\n",
       "False       6.277936\n",
       "True     6409.070642\n",
       "Name: squared_errors, dtype: float64"
      ]
     },
     "execution_count": 221,
     "metadata": {},
     "output_type": "execute_result"
    }
   ],
   "source": [
    "request_summaries_with_fraud.groupby('fraud')['squared_errors'].median()"
   ]
  },
  {
   "cell_type": "markdown",
   "metadata": {},
   "source": [
    "It looks like there's an obvious relationship between the squared error of the autoencoder and the "
   ]
  },
  {
   "cell_type": "code",
   "execution_count": 216,
   "metadata": {},
   "outputs": [],
   "source": [
    "by_user = request_summaries_with_fraud.groupby(['user_email', 'fraud'])['squared_errors'].aggregate(['count','min','max','mean','median','sum']).reset_index()\n",
    "by_user['serror_per_request'] = by_user['sum']/by_user['count']"
   ]
  },
  {
   "cell_type": "code",
   "execution_count": 219,
   "metadata": {},
   "outputs": [
    {
     "data": {
      "text/html": [
       "<div>\n",
       "<style scoped>\n",
       "    .dataframe tbody tr th:only-of-type {\n",
       "        vertical-align: middle;\n",
       "    }\n",
       "\n",
       "    .dataframe tbody tr th {\n",
       "        vertical-align: top;\n",
       "    }\n",
       "\n",
       "    .dataframe thead th {\n",
       "        text-align: right;\n",
       "    }\n",
       "</style>\n",
       "<table border=\"1\" class=\"dataframe\">\n",
       "  <thead>\n",
       "    <tr style=\"text-align: right;\">\n",
       "      <th></th>\n",
       "      <th>sum</th>\n",
       "      <th>serror_per_request</th>\n",
       "    </tr>\n",
       "    <tr>\n",
       "      <th>fraud</th>\n",
       "      <th></th>\n",
       "      <th></th>\n",
       "    </tr>\n",
       "  </thead>\n",
       "  <tbody>\n",
       "    <tr>\n",
       "      <th>False</th>\n",
       "      <td>1.883180e+03</td>\n",
       "      <td>167.379540</td>\n",
       "    </tr>\n",
       "    <tr>\n",
       "      <th>True</th>\n",
       "      <td>4.285157e+06</td>\n",
       "      <td>23470.480789</td>\n",
       "    </tr>\n",
       "  </tbody>\n",
       "</table>\n",
       "</div>"
      ],
      "text/plain": [
       "                sum  serror_per_request\n",
       "fraud                                  \n",
       "False  1.883180e+03          167.379540\n",
       "True   4.285157e+06        23470.480789"
      ]
     },
     "execution_count": 219,
     "metadata": {},
     "output_type": "execute_result"
    }
   ],
   "source": [
    "by_user.groupby(['fraud'])[['sum','serror_per_request']].mean()"
   ]
  }
 ],
 "metadata": {
  "kernelspec": {
   "display_name": "Python 3",
   "language": "python",
   "name": "python3"
  },
  "language_info": {
   "codemirror_mode": {
    "name": "ipython",
    "version": 3
   },
   "file_extension": ".py",
   "mimetype": "text/x-python",
   "name": "python",
   "nbconvert_exporter": "python",
   "pygments_lexer": "ipython3",
   "version": "3.6.5"
  }
 },
 "nbformat": 4,
 "nbformat_minor": 2
}
