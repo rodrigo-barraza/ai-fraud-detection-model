{
 "cells": [
  {
   "cell_type": "code",
   "execution_count": null,
   "metadata": {},
   "outputs": [],
   "source": [
    "# standard snippets I use a lot\n",
    "\n",
    "# for auto-reloading extensions - helpful if you're writing and testing a package\n",
    "%reload_ext autoreload\n",
    "%autoreload 2\n",
    "\n",
    "# for inline plotting in python using matplotlib\n",
    "%matplotlib inline\n",
    "import matplotlib.pyplot as plt\n",
    "\n",
    "# for easier plots - also makes matplotlib plots look nicer by default\n",
    "import seaborn as sns\n",
    "\n",
    "# set up for using plotly offline without an API key - great for interactive plots\n",
    "from plotly.offline import download_plotlyjs, init_notebook_mode, plot, iplot\n",
    "import plotly.graph_objs as go\n",
    "import plotly.figure_factory as ff\n",
    "init_notebook_mode(connected=True)\n",
    "\n",
    "# for numerical work\n",
    "import pandas as pd\n",
    "import numpy as np\n",
    "\n",
    "import pymongo\n",
    "\n",
    "import datetime\n",
    "import json"
   ]
  },
  {
   "cell_type": "code",
   "execution_count": null,
   "metadata": {},
   "outputs": [],
   "source": [
    "# a simple scatter plot in matplotlib\n",
    "x = np.random.normal(size=1000)\n",
    "y = np.random.normal(size=1000)\n",
    "\n",
    "plt.scatter(x,y)"
   ]
  },
  {
   "cell_type": "code",
   "execution_count": null,
   "metadata": {},
   "outputs": [],
   "source": [
    "# a simple scatter plot in matplotlib\n",
    "x = np.random.normal(size=500)\n",
    "\n",
    "# define a simple function\n",
    "f_x = lambda x: 10+20*x + np.random.normal(scale=20,size=1)\n",
    "\n",
    "# calculate y for each x\n",
    "y = [f_x(x_i) for x_i in x]\n",
    "\n",
    "plt.scatter(x,y)"
   ]
  },
  {
   "cell_type": "code",
   "execution_count": null,
   "metadata": {},
   "outputs": [],
   "source": [
    "# histogram\n",
    "plt.hist(x)"
   ]
  },
  {
   "cell_type": "code",
   "execution_count": null,
   "metadata": {},
   "outputs": [],
   "source": [
    "# scatterplot with seaborn\n",
    "sns.regplot(x=x,y=y, fit_reg=False)"
   ]
  },
  {
   "cell_type": "code",
   "execution_count": null,
   "metadata": {},
   "outputs": [],
   "source": [
    "# seaborn distribution plot\n",
    "sns.distplot(x)"
   ]
  },
  {
   "cell_type": "code",
   "execution_count": null,
   "metadata": {},
   "outputs": [],
   "source": [
    "# plotly scatter plot\n",
    "\n",
    "# first define one or more series to plot\n",
    "series = go.Scatter(dict(\n",
    "    x=x, \n",
    "    y=y, \n",
    "    mode='markers'))\n",
    "\n",
    "# plotly expects the 'data' object to be a list of series so need to put it inside a list with only 1\n",
    "data = [series] \n",
    "\n",
    "# the layout defines the styling of the chart\n",
    "layout = go.Layout(dict(\n",
    "    title='Example X v. Y Scatter',\n",
    "    xaxis = dict(title='X Axis'),\n",
    "    yaxis = dict(title='Y Axis')\n",
    "))\n",
    "\n",
    "# combine the data and layout together into a figure\n",
    "fig = go.Figure(data=data, layout=layout)\n",
    "\n",
    "# plot the figure inside the notebook\n",
    "iplot(fig)"
   ]
  },
  {
   "cell_type": "code",
   "execution_count": null,
   "metadata": {},
   "outputs": [],
   "source": [
    "# figure factory creates full figures including the layout and the data in one\n",
    "iplot(ff.create_distplot(hist_data=[x,y], group_labels=['x','y']))"
   ]
  },
  {
   "cell_type": "code",
   "execution_count": null,
   "metadata": {},
   "outputs": [],
   "source": []
  }
 ],
 "metadata": {
  "kernelspec": {
   "display_name": "Python 3",
   "language": "python",
   "name": "python3"
  },
  "language_info": {
   "codemirror_mode": {
    "name": "ipython",
    "version": 3
   },
   "file_extension": ".py",
   "mimetype": "text/x-python",
   "name": "python",
   "nbconvert_exporter": "python",
   "pygments_lexer": "ipython3",
   "version": "3.6.5"
  }
 },
 "nbformat": 4,
 "nbformat_minor": 2
}
